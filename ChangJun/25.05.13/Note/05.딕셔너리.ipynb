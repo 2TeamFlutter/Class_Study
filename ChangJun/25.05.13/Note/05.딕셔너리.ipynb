{
 "cells": [
  {
   "cell_type": "markdown",
   "id": "2bb42767",
   "metadata": {},
   "source": [
    "### Dictionary\n",
    ": key 와 value 로 구성한다."
   ]
  },
  {
   "cell_type": "code",
   "execution_count": null,
   "id": "50ed7e6b",
   "metadata": {},
   "outputs": [],
   "source": [
    "# 생성하기 : 중괄호로 선언 / 대괄호로 불러온다!\n",
    "dic = {\n",
    "    'name' : 'petty',\n",
    "    'phone' : '010-2222-1111',\n",
    "    'birth' : '1231'\n",
    "}"
   ]
  },
  {
   "cell_type": "code",
   "execution_count": 2,
   "id": "c7418f2b",
   "metadata": {},
   "outputs": [
    {
     "data": {
      "text/plain": [
       "'petty'"
      ]
     },
     "execution_count": 2,
     "metadata": {},
     "output_type": "execute_result"
    }
   ],
   "source": [
    "# 사용하기\n",
    "dic['name']"
   ]
  },
  {
   "cell_type": "code",
   "execution_count": 3,
   "id": "8adb99b5",
   "metadata": {},
   "outputs": [],
   "source": [
    "dic = {\n",
    "    'a' : [1,2,3]\n",
    "}"
   ]
  },
  {
   "cell_type": "code",
   "execution_count": 4,
   "id": "5bc0ce02",
   "metadata": {},
   "outputs": [
    {
     "data": {
      "text/plain": [
       "1"
      ]
     },
     "execution_count": 4,
     "metadata": {},
     "output_type": "execute_result"
    }
   ],
   "source": [
    "dic['a'][0]"
   ]
  },
  {
   "cell_type": "code",
   "execution_count": 6,
   "id": "7049dbf2",
   "metadata": {},
   "outputs": [
    {
     "data": {
      "text/plain": [
       "{'a': [1, 2, 3], 'b': 'bbb'}"
      ]
     },
     "execution_count": 6,
     "metadata": {},
     "output_type": "execute_result"
    }
   ],
   "source": [
    "# 데이터 추가하기\n",
    "dic['b'] = 'bbb'\n",
    "dic"
   ]
  },
  {
   "cell_type": "code",
   "execution_count": null,
   "id": "7eaf18f3",
   "metadata": {},
   "outputs": [
    {
     "data": {
      "text/plain": [
       "{'a': [1, 2, 3], 'b': 'ccc'}"
      ]
     },
     "execution_count": 7,
     "metadata": {},
     "output_type": "execute_result"
    }
   ],
   "source": [
    "# 수정하기\n",
    "dic['b'] = 'ccc'\n",
    "dic"
   ]
  },
  {
   "cell_type": "code",
   "execution_count": 8,
   "id": "182b7fb4",
   "metadata": {},
   "outputs": [
    {
     "data": {
      "text/plain": [
       "{'a': [1, 2, 3]}"
      ]
     },
     "execution_count": 8,
     "metadata": {},
     "output_type": "execute_result"
    }
   ],
   "source": [
    "# 삭제하기\n",
    "del dic['b']\n",
    "dic"
   ]
  },
  {
   "cell_type": "markdown",
   "id": "741755b5",
   "metadata": {},
   "source": [
    "---\n",
    "### Dictionary 관련 함수"
   ]
  },
  {
   "cell_type": "code",
   "execution_count": 9,
   "id": "b4bba939",
   "metadata": {},
   "outputs": [],
   "source": [
    "dic = {\n",
    "    'name' : 'petty',\n",
    "    'phone' : '010-2222-1111',\n",
    "    'birth' : '1231'\n",
    "}"
   ]
  },
  {
   "cell_type": "code",
   "execution_count": 10,
   "id": "fd5f8535",
   "metadata": {},
   "outputs": [
    {
     "data": {
      "text/plain": [
       "dict_keys(['name', 'phone', 'birth'])"
      ]
     },
     "execution_count": 10,
     "metadata": {},
     "output_type": "execute_result"
    }
   ],
   "source": [
    "dic.keys()"
   ]
  },
  {
   "cell_type": "code",
   "execution_count": 12,
   "id": "8d5f13db",
   "metadata": {},
   "outputs": [
    {
     "data": {
      "text/plain": [
       "['name', 'phone', 'birth']"
      ]
     },
     "execution_count": 12,
     "metadata": {},
     "output_type": "execute_result"
    }
   ],
   "source": [
    "list(dic.keys())"
   ]
  },
  {
   "cell_type": "code",
   "execution_count": 13,
   "id": "9e3c74ce",
   "metadata": {},
   "outputs": [
    {
     "data": {
      "text/plain": [
       "dict_values(['petty', '010-2222-1111', '1231'])"
      ]
     },
     "execution_count": 13,
     "metadata": {},
     "output_type": "execute_result"
    }
   ],
   "source": [
    "dic.values()"
   ]
  },
  {
   "cell_type": "code",
   "execution_count": 14,
   "id": "30e22562",
   "metadata": {},
   "outputs": [
    {
     "data": {
      "text/plain": [
       "['petty', '010-2222-1111', '1231']"
      ]
     },
     "execution_count": 14,
     "metadata": {},
     "output_type": "execute_result"
    }
   ],
   "source": [
    "list(dic.values())"
   ]
  },
  {
   "cell_type": "code",
   "execution_count": 15,
   "id": "c1e8c30e",
   "metadata": {},
   "outputs": [
    {
     "data": {
      "text/plain": [
       "dict_items([('name', 'petty'), ('phone', '010-2222-1111'), ('birth', '1231')])"
      ]
     },
     "execution_count": 15,
     "metadata": {},
     "output_type": "execute_result"
    }
   ],
   "source": [
    "dic.items()"
   ]
  },
  {
   "cell_type": "code",
   "execution_count": 17,
   "id": "31ea935e",
   "metadata": {},
   "outputs": [
    {
     "data": {
      "text/plain": [
       "[('name', 'petty'), ('phone', '010-2222-1111'), ('birth', '1231')]"
      ]
     },
     "execution_count": 17,
     "metadata": {},
     "output_type": "execute_result"
    }
   ],
   "source": [
    "item_list = list(dic.items())\n",
    "item_list"
   ]
  },
  {
   "cell_type": "code",
   "execution_count": 19,
   "id": "c82d2040",
   "metadata": {},
   "outputs": [
    {
     "data": {
      "text/plain": [
       "'petty'"
      ]
     },
     "execution_count": 19,
     "metadata": {},
     "output_type": "execute_result"
    }
   ],
   "source": [
    "item_list[0][1]"
   ]
  },
  {
   "cell_type": "code",
   "execution_count": 22,
   "id": "0119ef2f",
   "metadata": {},
   "outputs": [
    {
     "data": {
      "text/plain": [
       "{}"
      ]
     },
     "execution_count": 22,
     "metadata": {},
     "output_type": "execute_result"
    }
   ],
   "source": [
    "# 완전 삭제\n",
    "dic.clear()\n",
    "dic"
   ]
  },
  {
   "cell_type": "code",
   "execution_count": 23,
   "id": "b49d468a",
   "metadata": {},
   "outputs": [],
   "source": [
    "d = {\n",
    "    'name' : '홍길동',\n",
    "    'age' : 30\n",
    "}"
   ]
  },
  {
   "cell_type": "code",
   "execution_count": 25,
   "id": "c6e83b20",
   "metadata": {},
   "outputs": [
    {
     "name": "stdout",
     "output_type": "stream",
     "text": [
      "나의 이름은 홍길동 이고 나이는 30 살 입니다.\n"
     ]
    }
   ],
   "source": [
    "print(f\"나의 이름은 {d['name']} 이고 나이는 {d['age']} 살 입니다.\")"
   ]
  },
  {
   "cell_type": "markdown",
   "id": "1d57cf8b",
   "metadata": {},
   "source": [
    "---\n",
    "### 객체 동일성"
   ]
  },
  {
   "cell_type": "code",
   "execution_count": 26,
   "id": "f8f5dee4",
   "metadata": {},
   "outputs": [],
   "source": [
    "list1 = ['one', 'two']\n",
    "list2 = ['one', 'two']"
   ]
  },
  {
   "cell_type": "code",
   "execution_count": null,
   "id": "3ad816e3",
   "metadata": {},
   "outputs": [
    {
     "data": {
      "text/plain": [
       "False"
      ]
     },
     "execution_count": 27,
     "metadata": {},
     "output_type": "execute_result"
    }
   ],
   "source": [
    "list1 is list2 # 메모리의 위치와 데이터 이름이 모두 똑같은지 확인"
   ]
  },
  {
   "cell_type": "code",
   "execution_count": null,
   "id": "c5c57346",
   "metadata": {},
   "outputs": [
    {
     "data": {
      "text/plain": [
       "True"
      ]
     },
     "execution_count": 28,
     "metadata": {},
     "output_type": "execute_result"
    }
   ],
   "source": [
    "list1 == list2 # 데이터가 같은지 확인"
   ]
  },
  {
   "cell_type": "code",
   "execution_count": 29,
   "id": "a7a39118",
   "metadata": {},
   "outputs": [
    {
     "data": {
      "text/plain": [
       "True"
      ]
     },
     "execution_count": 29,
     "metadata": {},
     "output_type": "execute_result"
    }
   ],
   "source": [
    "list1[0] is list2[0]"
   ]
  },
  {
   "cell_type": "code",
   "execution_count": 30,
   "id": "f0637cb1",
   "metadata": {},
   "outputs": [],
   "source": [
    "var01 = [1,2,3,4]\n",
    "var02 = var01"
   ]
  },
  {
   "cell_type": "code",
   "execution_count": 31,
   "id": "da727aab",
   "metadata": {},
   "outputs": [
    {
     "name": "stdout",
     "output_type": "stream",
     "text": [
      "True\n",
      "True\n"
     ]
    }
   ],
   "source": [
    "print(var01 is var02)\n",
    "print(var01 == var02)\n"
   ]
  },
  {
   "cell_type": "code",
   "execution_count": 32,
   "id": "5c5470bd",
   "metadata": {},
   "outputs": [],
   "source": [
    "var01 = [1,2,3,4]\n",
    "var02 = var01[:]"
   ]
  },
  {
   "cell_type": "code",
   "execution_count": 33,
   "id": "615d7f2e",
   "metadata": {},
   "outputs": [
    {
     "name": "stdout",
     "output_type": "stream",
     "text": [
      "False\n",
      "True\n"
     ]
    }
   ],
   "source": [
    "print(var01 is var02)\n",
    "print(var01 == var02)"
   ]
  },
  {
   "cell_type": "code",
   "execution_count": null,
   "id": "96745fb3",
   "metadata": {},
   "outputs": [],
   "source": []
  }
 ],
 "metadata": {
  "kernelspec": {
   "display_name": "base",
   "language": "python",
   "name": "python3"
  },
  "language_info": {
   "codemirror_mode": {
    "name": "ipython",
    "version": 3
   },
   "file_extension": ".py",
   "mimetype": "text/x-python",
   "name": "python",
   "nbconvert_exporter": "python",
   "pygments_lexer": "ipython3",
   "version": "3.12.7"
  }
 },
 "nbformat": 4,
 "nbformat_minor": 5
}
