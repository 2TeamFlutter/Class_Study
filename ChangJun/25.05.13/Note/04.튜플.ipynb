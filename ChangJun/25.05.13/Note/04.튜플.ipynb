{
 "cells": [
  {
   "cell_type": "markdown",
   "id": "98d0eae0",
   "metadata": {},
   "source": [
    "## 튜플 (Tuple) 자료형\n",
    ": 튜플은 다음과 같은 점을 제외하곤 리스트와 거의 비슷하ㄴ다.\n",
    " - (와) 로 사용\n",
    "  - 튜플은 값을 변경할 수 없다."
   ]
  },
  {
   "cell_type": "code",
   "execution_count": null,
   "id": "190e803b",
   "metadata": {},
   "outputs": [],
   "source": [
    "# Tuple 의 선언 : 소괄호로 선언 / 대괄호로 불러오기!\n",
    "var01 = ()\n",
    "var02 = (1,)\n",
    "var03 = (1,2,3)\n",
    "var04 = 1,2,3\n",
    "var05 = ('a', 'b', ('ab', 'cd'))"
   ]
  },
  {
   "cell_type": "code",
   "execution_count": 6,
   "id": "f63a9538",
   "metadata": {},
   "outputs": [
    {
     "data": {
      "text/plain": [
       "'a'"
      ]
     },
     "execution_count": 6,
     "metadata": {},
     "output_type": "execute_result"
    }
   ],
   "source": [
    "var05[0]"
   ]
  },
  {
   "cell_type": "markdown",
   "id": "5ecdb27a",
   "metadata": {},
   "source": [
    "### Tuple 값 변경\n",
    ": Tuple 에 List 를 추가하여 사용"
   ]
  },
  {
   "cell_type": "code",
   "execution_count": null,
   "id": "b1cb1042",
   "metadata": {},
   "outputs": [
    {
     "name": "stdout",
     "output_type": "stream",
     "text": [
      "([100, 2], 3, 4)\n"
     ]
    }
   ],
   "source": [
    "# 변경을 하기 위해선 list 가 있어야 한다.\n",
    "tuple01 = ([1,2],3,4)\n",
    "tuple01[0][0] = 100\n",
    "print(tuple01)"
   ]
  },
  {
   "cell_type": "code",
   "execution_count": null,
   "id": "600ac1e8",
   "metadata": {},
   "outputs": [],
   "source": []
  }
 ],
 "metadata": {
  "kernelspec": {
   "display_name": "base",
   "language": "python",
   "name": "python3"
  },
  "language_info": {
   "codemirror_mode": {
    "name": "ipython",
    "version": 3
   },
   "file_extension": ".py",
   "mimetype": "text/x-python",
   "name": "python",
   "nbconvert_exporter": "python",
   "pygments_lexer": "ipython3",
   "version": "3.12.7"
  }
 },
 "nbformat": 4,
 "nbformat_minor": 5
}
