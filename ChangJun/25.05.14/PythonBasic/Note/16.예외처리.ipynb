{
 "cells": [
  {
   "cell_type": "markdown",
   "id": "d8696e72",
   "metadata": {},
   "source": [
    "## 예외처리"
   ]
  },
  {
   "cell_type": "code",
   "execution_count": 1,
   "id": "0602c32a",
   "metadata": {},
   "outputs": [
    {
     "ename": "ZeroDivisionError",
     "evalue": "division by zero",
     "output_type": "error",
     "traceback": [
      "\u001b[0;31m---------------------------------------------------------------------------\u001b[0m",
      "\u001b[0;31mZeroDivisionError\u001b[0m                         Traceback (most recent call last)",
      "Cell \u001b[0;32mIn[1], line 1\u001b[0m\n\u001b[0;32m----> 1\u001b[0m \u001b[38;5;241m4\u001b[39m\u001b[38;5;241m/\u001b[39m\u001b[38;5;241m0\u001b[39m\n",
      "\u001b[0;31mZeroDivisionError\u001b[0m: division by zero"
     ]
    }
   ],
   "source": [
    "4/0"
   ]
  },
  {
   "cell_type": "code",
   "execution_count": 3,
   "id": "9b61c1ae",
   "metadata": {},
   "outputs": [
    {
     "name": "stdout",
     "output_type": "stream",
     "text": [
      "division by zero\n"
     ]
    }
   ],
   "source": [
    "try:\n",
    "    4 / 0\n",
    "except ZeroDivisionError as e:\n",
    "    print(e)\n"
   ]
  },
  {
   "cell_type": "code",
   "execution_count": 7,
   "id": "b16dcb52",
   "metadata": {},
   "outputs": [
    {
     "name": "stdout",
     "output_type": "stream",
     "text": [
      "Error\n"
     ]
    }
   ],
   "source": [
    "try:\n",
    "    print(4/0)\n",
    "except:\n",
    "    print(\"Error\")"
   ]
  },
  {
   "cell_type": "code",
   "execution_count": 8,
   "id": "34f6d057",
   "metadata": {},
   "outputs": [
    {
     "name": "stdout",
     "output_type": "stream",
     "text": [
      "Error\n"
     ]
    }
   ],
   "source": [
    "try:\n",
    "    f = open(\"../Data/test.txt\",\"r\")\n",
    "except:\n",
    "    print(\"Error\")\n",
    "else :\n",
    "    data = f.read()\n",
    "    f.close()"
   ]
  },
  {
   "cell_type": "code",
   "execution_count": 10,
   "id": "13b59161",
   "metadata": {},
   "outputs": [
    {
     "name": "stdout",
     "output_type": "stream",
     "text": [
      "1 번째 줄 입니다.\n",
      "2 번째 줄 입니다.\n",
      "3 번째 줄 입니다.\n",
      "4 번째 줄 입니다.\n",
      "5 번째 줄 입니다.\n",
      "6 번째 줄 입니다.\n",
      "7 번째 줄 입니다.\n",
      "8 번째 줄 입니다.\n",
      "9 번째 줄 입니다.\n",
      "10 번째 줄 입니다.\n",
      "11 번째 줄 입니다.\n",
      "12 번째 줄 입니다.\n",
      "13 번째 줄 입니다.\n",
      "14 번째 줄 입니다.\n",
      "15 번째 줄 입니다.\n",
      "16 번째 줄 입니다.\n",
      "17 번째 줄 입니다.\n",
      "18 번째 줄 입니다.\n",
      "19 번째 줄 입니다.\n",
      "20 번째 줄 입니다.\n",
      "\n"
     ]
    }
   ],
   "source": [
    "try:\n",
    "    f = open(\"../Data/new.txt\",\"r\")\n",
    "except:\n",
    "    print(\"Error\")\n",
    "else :\n",
    "    data = f.read()\n",
    "    print(data)\n",
    "finally :\n",
    "    f.close()"
   ]
  },
  {
   "cell_type": "markdown",
   "id": "7d861ae0",
   "metadata": {},
   "source": [
    "---\n",
    "### assert\n",
    ": Exception을 주어진 Message로 변환"
   ]
  },
  {
   "cell_type": "code",
   "execution_count": 13,
   "id": "ad07252b",
   "metadata": {},
   "outputs": [
    {
     "name": "stdout",
     "output_type": "stream",
     "text": [
      "당신의 나이는 10살 입니다.\n"
     ]
    }
   ],
   "source": [
    "age = int(input(\"나이 입력\"))\n",
    "assert age >= 0, \"나이가 마이너스 인게 가능한가? 휴먼!\"\n",
    "print(f\"당신의 나이는 {age}살 입니다.\")"
   ]
  },
  {
   "cell_type": "code",
   "execution_count": null,
   "id": "7b2c9c61",
   "metadata": {},
   "outputs": [],
   "source": []
  }
 ],
 "metadata": {
  "kernelspec": {
   "display_name": "base",
   "language": "python",
   "name": "python3"
  },
  "language_info": {
   "codemirror_mode": {
    "name": "ipython",
    "version": 3
   },
   "file_extension": ".py",
   "mimetype": "text/x-python",
   "name": "python",
   "nbconvert_exporter": "python",
   "pygments_lexer": "ipython3",
   "version": "3.12.7"
  }
 },
 "nbformat": 4,
 "nbformat_minor": 5
}
