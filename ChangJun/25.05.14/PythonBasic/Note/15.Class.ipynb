{
 "cells": [
  {
   "cell_type": "markdown",
   "id": "0830667c",
   "metadata": {},
   "source": [
    "### class"
   ]
  },
  {
   "cell_type": "code",
   "execution_count": 8,
   "id": "4fb55e31",
   "metadata": {},
   "outputs": [],
   "source": [
    "# self 는 class 를 위해 사용한다. / 함수를 위해서 x\n",
    "class Calc():\n",
    "    def setdata(self, first, second):\n",
    "        self.first = first\n",
    "        self.second = second\n",
    "    def sum(self):\n",
    "        return self.first + self.second\n",
    "    def mul(self):\n",
    "        return self.first * self.second\n",
    "    def sub(self):\n",
    "        return self.first - self.second\n",
    "    def div(self):\n",
    "        return self.first / self.second"
   ]
  },
  {
   "cell_type": "code",
   "execution_count": 9,
   "id": "7bfdef5b",
   "metadata": {},
   "outputs": [
    {
     "name": "stdout",
     "output_type": "stream",
     "text": [
      "덧셈 : 6\n",
      "뺄셈 : 2\n",
      "곱셈 : 8\n",
      "나눗셈 : 2.0\n"
     ]
    }
   ],
   "source": [
    "calc01 = Calc()\n",
    "calc01.setdata(4,2)\n",
    "print(f\"덧셈 : {calc01.sum()}\")\n",
    "print(f\"뺄셈 : {calc01.sub()}\")\n",
    "print(f\"곱셈 : {calc01.mul()}\")\n",
    "print(f\"나눗셈 : {calc01.div()}\")"
   ]
  },
  {
   "cell_type": "code",
   "execution_count": 10,
   "id": "358e2581",
   "metadata": {},
   "outputs": [],
   "source": [
    "# 정상적인 class 생성 방법\n",
    "class Calc():\n",
    "    # Property\n",
    "    first = 0\n",
    "    second = 0\n",
    "\n",
    "    # Constructor\n",
    "    def __init__(self, first, second):\n",
    "        self.first = first\n",
    "        self.second = second\n",
    "\n",
    "    # Method\n",
    "    def sum(self):\n",
    "        return self.first + self.second\n",
    "\n",
    "    def mul(self):\n",
    "        return self.first * self.second\n",
    "\n",
    "    def sub(self):\n",
    "        return self.first - self.second\n",
    "\n",
    "    def div(self):\n",
    "        return self.first / self.second"
   ]
  },
  {
   "cell_type": "code",
   "execution_count": 11,
   "id": "55b7d533",
   "metadata": {},
   "outputs": [
    {
     "name": "stdout",
     "output_type": "stream",
     "text": [
      "덧셈 : 6\n",
      "뺄셈 : 2\n",
      "곱셈 : 8\n",
      "나눗셈 : 2.0\n"
     ]
    }
   ],
   "source": [
    "calc01 = Calc(4,2)\n",
    "print(f\"덧셈 : {calc01.sum()}\")\n",
    "print(f\"뺄셈 : {calc01.sub()}\")\n",
    "print(f\"곱셈 : {calc01.mul()}\")\n",
    "print(f\"나눗셈 : {calc01.div()}\")"
   ]
  },
  {
   "cell_type": "markdown",
   "id": "39861f4e",
   "metadata": {},
   "source": [
    "---\n",
    "### 상속"
   ]
  },
  {
   "cell_type": "code",
   "execution_count": 12,
   "id": "a39b312d",
   "metadata": {},
   "outputs": [],
   "source": [
    "class Add():\n",
    "    num1 = 0\n",
    "    num2 = 0\n",
    "\n",
    "    def __init__(self, num1, num2):\n",
    "        self.num1 = num1\n",
    "        self.num2 = num2\n",
    "\n",
    "    def add(self):\n",
    "        return self.num1 + self.num2"
   ]
  },
  {
   "cell_type": "code",
   "execution_count": 13,
   "id": "f4531ea7",
   "metadata": {},
   "outputs": [
    {
     "name": "stdout",
     "output_type": "stream",
     "text": [
      "3\n"
     ]
    }
   ],
   "source": [
    "addtion = Add(1,2)\n",
    "print(addtion.add())"
   ]
  },
  {
   "cell_type": "code",
   "execution_count": 14,
   "id": "f06bb91e",
   "metadata": {},
   "outputs": [],
   "source": [
    "class Sub(Add):\n",
    "    num1 = 0\n",
    "    num2 = 0\n",
    "\n",
    "    def __init__(self, num1, num2):\n",
    "        self.num1 = num1\n",
    "        self.num2 = num2\n",
    "\n",
    "    def sub(self):\n",
    "        return self.num1 - self.num2"
   ]
  },
  {
   "cell_type": "code",
   "execution_count": 15,
   "id": "c479278e",
   "metadata": {},
   "outputs": [
    {
     "name": "stdout",
     "output_type": "stream",
     "text": [
      "-1\n",
      "5\n"
     ]
    }
   ],
   "source": [
    "subtraction = Sub(2,3)\n",
    "print(subtraction.sub())\n",
    "print(subtraction.add())"
   ]
  },
  {
   "cell_type": "code",
   "execution_count": 21,
   "id": "e10a2c17",
   "metadata": {},
   "outputs": [],
   "source": [
    "class Mul(Sub):\n",
    "    num1 = 0\n",
    "    num2 = 0\n",
    "\n",
    "    def __init__(self, num1, num2):\n",
    "        self.num1 = num1\n",
    "        self.num2 = num2\n",
    "\n",
    "    def mul(self):\n",
    "        return self.num1 * self.num2"
   ]
  },
  {
   "cell_type": "code",
   "execution_count": 20,
   "id": "d1417e7f",
   "metadata": {},
   "outputs": [
    {
     "name": "stdout",
     "output_type": "stream",
     "text": [
      "-1\n",
      "5\n",
      "6\n"
     ]
    }
   ],
   "source": [
    "subtraction = Mul(2,3)\n",
    "print(subtraction.sub())\n",
    "print(subtraction.add())\n",
    "print(subtraction.mul())"
   ]
  },
  {
   "cell_type": "code",
   "execution_count": null,
   "id": "7dc84195",
   "metadata": {},
   "outputs": [],
   "source": []
  }
 ],
 "metadata": {
  "kernelspec": {
   "display_name": "base",
   "language": "python",
   "name": "python3"
  },
  "language_info": {
   "codemirror_mode": {
    "name": "ipython",
    "version": 3
   },
   "file_extension": ".py",
   "mimetype": "text/x-python",
   "name": "python",
   "nbconvert_exporter": "python",
   "pygments_lexer": "ipython3",
   "version": "3.12.7"
  }
 },
 "nbformat": 4,
 "nbformat_minor": 5
}
