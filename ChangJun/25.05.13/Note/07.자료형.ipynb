{
 "cells": [
  {
   "cell_type": "markdown",
   "id": "41103938",
   "metadata": {},
   "source": [
    "### 자료형의 참과 거짓\n",
    " - 문자열인 경우 : \"\" ---> 안에 data 가 없으면 거짓, data 가 있으면 참\n",
    " - list인 경우 : [] ---> 위와 같다.\n",
    " - tuple인 경우 : () ---> 위와 같다.\n",
    " - dictionary인 경우 : {} ---> 위와 같다.\n",
    " - 숫자인 경우 : 0 이면 거짓이다, 0이 아닌 숫자는 true 참 이다."
   ]
  },
  {
   "cell_type": "markdown",
   "id": "8409cf1d",
   "metadata": {},
   "source": []
  }
 ],
 "metadata": {
  "language_info": {
   "name": "python"
  }
 },
 "nbformat": 4,
 "nbformat_minor": 5
}
