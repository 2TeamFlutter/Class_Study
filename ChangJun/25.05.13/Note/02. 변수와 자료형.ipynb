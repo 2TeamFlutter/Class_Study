{
 "cells": [
  {
   "cell_type": "markdown",
   "id": "f9730c65",
   "metadata": {},
   "source": [
    "### --- 변수와 자료형 ---\n",
    "\n",
    "#### 변수\n",
    ": 계산에 필요한 자료를 일시적으로 저장하거나 처리 결과를 담을 수 있는 기억장소를 지정 해주는 역할    \n",
    "변수 이름은 값을 지정하는 메모리 영역의 이름으로 할당.    \n",
    "\n",
    "#### 변수 이름이 작성 규칙\n",
    "- 첫자는 영문으로 시작.\n",
    "- 첫자를 제외하고 숫자, under bar, dot 를 사용할 수 있다.\n",
    "- 대문자와 소문자를 구분.\n",
    "- 변수 이름은 의미를 파악할 수 있는 이름으로 지정하는 것이 좋다.\n",
    "- 두 단어를 포함한 Camel (변수의 이름을 지정할 경우 두 번째 단어의 첫 자는 대문자), Snake (under bar 로 구분) 하는 것이 가독성이 좋습니다."
   ]
  },
  {
   "cell_type": "code",
   "execution_count": 1,
   "id": "67998315",
   "metadata": {},
   "outputs": [],
   "source": [
    "appleFruit = 10\n",
    "apple_fruit = 10"
   ]
  },
  {
   "cell_type": "markdown",
   "id": "fdf140e6",
   "metadata": {},
   "source": [
    "### 자료형\n",
    "\n",
    "#### 숫자 자료형"
   ]
  },
  {
   "cell_type": "code",
   "execution_count": 2,
   "id": "9b5ff4a0",
   "metadata": {},
   "outputs": [
    {
     "data": {
      "text/plain": [
       "-17"
      ]
     },
     "execution_count": 2,
     "metadata": {},
     "output_type": "execute_result"
    }
   ],
   "source": [
    "# 정수형\n",
    "var01 = 123\n",
    "var01 = -17\n",
    "\n",
    "var01 # 변수에 최근 값이 저장된다."
   ]
  },
  {
   "cell_type": "code",
   "execution_count": 3,
   "id": "1d47e0dd",
   "metadata": {},
   "outputs": [
    {
     "data": {
      "text/plain": [
       "-12.34"
      ]
     },
     "execution_count": 3,
     "metadata": {},
     "output_type": "execute_result"
    }
   ],
   "source": [
    "# 실수형\n",
    "var02 = 1.2\n",
    "var02 = -12.34\n",
    "var02"
   ]
  },
  {
   "cell_type": "code",
   "execution_count": 4,
   "id": "a53c459f",
   "metadata": {},
   "outputs": [
    {
     "name": "stdout",
     "output_type": "stream",
     "text": [
      "Apple\n",
      "Apple Banana\n",
      "AppleBanana\n"
     ]
    }
   ],
   "source": [
    "# 화면 출력\n",
    "\n",
    "print(\"Apple\")\n",
    "print(\"Apple\", \"Banana\")\n",
    "print(\"Apple\"+\"Banana\")"
   ]
  },
  {
   "cell_type": "code",
   "execution_count": 5,
   "id": "bdb55f7b",
   "metadata": {},
   "outputs": [
    {
     "name": "stdout",
     "output_type": "stream",
     "text": [
      "덧셈 : 7\n",
      "뺄셈 : -1\n",
      "곱셈 : 12\n",
      "실수 나눗셈 : 0.75\n",
      "정수 나눗셈 몫 : 3\n",
      "정수 나눗셈 나머지 : 0\n"
     ]
    }
   ],
   "source": [
    "# 연산자\n",
    "\n",
    "var01 = 3\n",
    "var02 = 4\n",
    "\n",
    "print(\"덧셈 :\", var01+var02) \n",
    "print(\"뺄셈 :\", var01-var02) \n",
    "print(\"곱셈 :\", var01*var02) \n",
    "print(\"실수 나눗셈 :\", var01/var02) \n",
    "print(\"정수 나눗셈 몫 :\", var01%var02) \n",
    "print(\"정수 나눗셈 나머지 :\", var01//var02) "
   ]
  },
  {
   "cell_type": "code",
   "execution_count": 6,
   "id": "cfcf31a9",
   "metadata": {},
   "outputs": [
    {
     "name": "stdout",
     "output_type": "stream",
     "text": [
      "제곱 : 9\n",
      "제곱 : 9\n"
     ]
    }
   ],
   "source": [
    "# 거듭제곱\n",
    "print(\"제곱 :\", var01 ** 2) \n",
    "print(\"제곱 :\", pow(var01, 2))"
   ]
  },
  {
   "cell_type": "markdown",
   "id": "6e67129c",
   "metadata": {},
   "source": [
    "### 파이썬 모듈을 이용한 수학 계산"
   ]
  },
  {
   "cell_type": "code",
   "execution_count": 7,
   "id": "73d77b6e",
   "metadata": {},
   "outputs": [],
   "source": [
    "import math # 수학 계산 모듈"
   ]
  },
  {
   "cell_type": "code",
   "execution_count": 8,
   "id": "c45c4464",
   "metadata": {},
   "outputs": [
    {
     "data": {
      "text/plain": [
       "9.0"
      ]
     },
     "execution_count": 8,
     "metadata": {},
     "output_type": "execute_result"
    }
   ],
   "source": [
    "# 거듭제곱\n",
    "math.pow(var01,2)"
   ]
  },
  {
   "cell_type": "code",
   "execution_count": 9,
   "id": "6a8a480c",
   "metadata": {},
   "outputs": [
    {
     "data": {
      "text/plain": [
       "1.7320508075688772"
      ]
     },
     "execution_count": 9,
     "metadata": {},
     "output_type": "execute_result"
    }
   ],
   "source": [
    "# 제곱근\n",
    "math.sqrt(var01)"
   ]
  },
  {
   "cell_type": "code",
   "execution_count": 10,
   "id": "af5e98a3",
   "metadata": {},
   "outputs": [
    {
     "data": {
      "text/plain": [
       "0.8509035245341184"
      ]
     },
     "execution_count": 10,
     "metadata": {},
     "output_type": "execute_result"
    }
   ],
   "source": [
    "# sin 45도\n",
    "math.sin(45)"
   ]
  },
  {
   "cell_type": "code",
   "execution_count": 11,
   "id": "f9a49fe1",
   "metadata": {},
   "outputs": [
    {
     "data": {
      "text/plain": [
       "1.0"
      ]
     },
     "execution_count": 11,
     "metadata": {},
     "output_type": "execute_result"
    }
   ],
   "source": [
    "math.pow(math.sin(45),2)+ math.pow(math.cos(45),2)"
   ]
  },
  {
   "cell_type": "markdown",
   "id": "101ba26e",
   "metadata": {},
   "source": [
    "### 난수"
   ]
  },
  {
   "cell_type": "code",
   "execution_count": 12,
   "id": "47d95efc",
   "metadata": {},
   "outputs": [],
   "source": [
    "import random"
   ]
  },
  {
   "cell_type": "code",
   "execution_count": 13,
   "id": "52d4fae9",
   "metadata": {},
   "outputs": [
    {
     "data": {
      "text/plain": [
       "15"
      ]
     },
     "execution_count": 13,
     "metadata": {},
     "output_type": "execute_result"
    }
   ],
   "source": [
    "random.randint(1,100)"
   ]
  },
  {
   "cell_type": "markdown",
   "id": "648de1e8",
   "metadata": {},
   "source": [
    "### 범위의 수\n",
    " : range(start, end+1, step 얼마씩) 함수가 있다."
   ]
  },
  {
   "cell_type": "code",
   "execution_count": 14,
   "id": "84f58af1",
   "metadata": {},
   "outputs": [
    {
     "name": "stdout",
     "output_type": "stream",
     "text": [
      "[1, 2, 3, 4, 5, 6, 7, 8, 9, 10]\n"
     ]
    }
   ],
   "source": [
    "var01 = [1,2,3,4,5,6,7,8,9,10]\n",
    "print(var01)"
   ]
  },
  {
   "cell_type": "code",
   "execution_count": 15,
   "id": "3d560033",
   "metadata": {},
   "outputs": [
    {
     "data": {
      "text/plain": [
       "range(0, 10)"
      ]
     },
     "execution_count": 15,
     "metadata": {},
     "output_type": "execute_result"
    }
   ],
   "source": [
    "# 숫자를 하나만 적으면 and 이다.\n",
    "range(10)"
   ]
  },
  {
   "cell_type": "code",
   "execution_count": 16,
   "id": "66775bb1",
   "metadata": {},
   "outputs": [
    {
     "data": {
      "text/plain": [
       "[10, 9, 8, 7, 6, 5, 4, 3, 2, 1]"
      ]
     },
     "execution_count": 16,
     "metadata": {},
     "output_type": "execute_result"
    }
   ],
   "source": [
    "# 내림차순으로 할 경우 - 를 생각 해야한다.\n",
    "list(range(10,1-1,-1))"
   ]
  },
  {
   "cell_type": "code",
   "execution_count": 17,
   "id": "abecebb5",
   "metadata": {},
   "outputs": [
    {
     "name": "stdout",
     "output_type": "stream",
     "text": [
      "[1, 2, 3, 4, 5, 6, 7, 8, 9, 10]\n"
     ]
    }
   ],
   "source": [
    "result = list(range(1,10+1,1))\n",
    "print(result)"
   ]
  },
  {
   "cell_type": "code",
   "execution_count": 18,
   "id": "ea967c17",
   "metadata": {},
   "outputs": [
    {
     "data": {
      "text/plain": [
       "[2, 4, 6, 8, 10]"
      ]
     },
     "execution_count": 18,
     "metadata": {},
     "output_type": "execute_result"
    }
   ],
   "source": [
    "#2~10 까지 짝수만 출력\n",
    "list(range(2,10+1,2))"
   ]
  },
  {
   "cell_type": "code",
   "execution_count": 19,
   "id": "c079ba09",
   "metadata": {},
   "outputs": [
    {
     "data": {
      "text/plain": [
       "[10, 8, 6, 4, 2]"
      ]
     },
     "execution_count": 19,
     "metadata": {},
     "output_type": "execute_result"
    }
   ],
   "source": [
    "# 10에서 2까지 짝수만 출력\n",
    "list(range(10,2-1,-2))"
   ]
  },
  {
   "cell_type": "markdown",
   "id": "c84bfaf7",
   "metadata": {},
   "source": [
    "### Sampling"
   ]
  },
  {
   "cell_type": "code",
   "execution_count": 20,
   "id": "584daa3f",
   "metadata": {},
   "outputs": [
    {
     "name": "stdout",
     "output_type": "stream",
     "text": [
      "[707, 347, 238, 971, 881, 772, 784, 835, 146, 512]\n"
     ]
    }
   ],
   "source": [
    "list01 = range(1000+1)\n",
    "print(random.sample(list01, 10))"
   ]
  },
  {
   "cell_type": "code",
   "execution_count": 21,
   "id": "74859254",
   "metadata": {},
   "outputs": [
    {
     "name": "stdout",
     "output_type": "stream",
     "text": [
      "[25, 37, 23, 39, 40, 38]\n"
     ]
    }
   ],
   "source": [
    "# 로또 번호 생성하기 1~45 중 6개\n",
    "print(random.sample(range(1,45+1,1),6))"
   ]
  },
  {
   "cell_type": "code",
   "execution_count": 22,
   "id": "333e5923",
   "metadata": {},
   "outputs": [
    {
     "name": "stdout",
     "output_type": "stream",
     "text": [
      "2\n",
      "4\n",
      "4\n",
      "3\n",
      "4\n",
      "5\n"
     ]
    }
   ],
   "source": [
    "# 반올림\n",
    "# 소숫점이 .5 일 경우 결과가 홀수면 짝수 쪽으로 출력한다.\n",
    "print(round(2.5))\n",
    "print(round(3.5))\n",
    "print(round(4.5))\n",
    "\n",
    "print(round(2.6))\n",
    "print(round(3.6))\n",
    "print(round(4.6))"
   ]
  },
  {
   "cell_type": "markdown",
   "id": "378f8f46",
   "metadata": {},
   "source": [
    "### 메모리에 있는 변수 보기"
   ]
  },
  {
   "cell_type": "code",
   "execution_count": 23,
   "id": "7bd7508b",
   "metadata": {},
   "outputs": [
    {
     "data": {
      "text/plain": [
       "<function dir>"
      ]
     },
     "execution_count": 23,
     "metadata": {},
     "output_type": "execute_result"
    }
   ],
   "source": [
    "dir"
   ]
  },
  {
   "cell_type": "code",
   "execution_count": 24,
   "id": "1d124fa3",
   "metadata": {},
   "outputs": [],
   "source": [
    "# 메모리에서 var01 삭제\n",
    "del var01"
   ]
  },
  {
   "cell_type": "markdown",
   "id": "38d03965",
   "metadata": {},
   "source": [
    "---\n",
    "### 관계 연산자"
   ]
  },
  {
   "cell_type": "code",
   "execution_count": 25,
   "id": "3b8478bc",
   "metadata": {},
   "outputs": [
    {
     "name": "stdout",
     "output_type": "stream",
     "text": [
      "False\n",
      "True\n",
      "True\n",
      "False\n",
      "True\n",
      "False\n"
     ]
    }
   ],
   "source": [
    "num1 = 100\n",
    "num2 = 20\n",
    "\n",
    "# 동등 비교\n",
    "print(num1 == num2)\n",
    "print(num1 != num2)\n",
    "\n",
    "# 크기 비교\n",
    "print(num1 > num2)\n",
    "print(num1 < num2)\n",
    "print(num1 >= num2)\n",
    "print(num1 <= num2)"
   ]
  },
  {
   "cell_type": "markdown",
   "id": "dfbbffc4",
   "metadata": {},
   "source": [
    "### 논리 연산자"
   ]
  },
  {
   "cell_type": "code",
   "execution_count": 26,
   "id": "3c43b674",
   "metadata": {},
   "outputs": [
    {
     "name": "stdout",
     "output_type": "stream",
     "text": [
      "False\n",
      "True\n",
      "False\n"
     ]
    }
   ],
   "source": [
    "# And, Or 연산자 (&, | <= 사용하면 안된다!, bit 연산자)\n",
    "print((num1 >= 50) and (num2 <= 10))\n",
    "print((num1 >= 50) or (num2 <= 10))\n",
    "\n",
    "# 부정 연산자\n",
    "print(not(num1 >= 50))\n"
   ]
  },
  {
   "cell_type": "code",
   "execution_count": 27,
   "id": "ddfdfea6",
   "metadata": {},
   "outputs": [
    {
     "name": "stdout",
     "output_type": "stream",
     "text": [
      "01. Preview.ipynb\n",
      "02. 변수와 자료형.ipynb\n"
     ]
    }
   ],
   "source": [
    "# ! 는 해당 os 의 명령으를 사용 할 때 쓴다.\n",
    "!ls"
   ]
  },
  {
   "cell_type": "markdown",
   "id": "3d763262",
   "metadata": {},
   "source": [
    "---\n",
    "### 문자열 자료형"
   ]
  },
  {
   "cell_type": "code",
   "execution_count": 28,
   "id": "456acefa",
   "metadata": {},
   "outputs": [
    {
     "data": {
      "text/plain": [
       "'Hello World!'"
      ]
     },
     "execution_count": 28,
     "metadata": {},
     "output_type": "execute_result"
    }
   ],
   "source": [
    "var01 = 'Hello World!'\n",
    "var01"
   ]
  },
  {
   "cell_type": "code",
   "execution_count": 29,
   "id": "0d8e3a30",
   "metadata": {},
   "outputs": [
    {
     "name": "stdout",
     "output_type": "stream",
     "text": [
      "\n",
      "    Hello World!\n",
      "        Good to meet you!\n",
      "\n"
     ]
    }
   ],
   "source": [
    "# 여러 줄의 문자열\n",
    "var01 = \"\"\"\n",
    "    Hello World!\n",
    "        Good to meet you!\n",
    "\"\"\"\n",
    "print(var01)"
   ]
  },
  {
   "cell_type": "code",
   "execution_count": 30,
   "id": "887e24b8",
   "metadata": {},
   "outputs": [
    {
     "name": "stdout",
     "output_type": "stream",
     "text": [
      "My father`s wife is my mother.\n",
      "He says \"I love you\".\n"
     ]
    }
   ],
   "source": [
    "# 쌍 따옴표 와 홑 따옴표 사용\n",
    "var01 = \"My father`s wife is my mother.\"\n",
    "var02 = 'He says \"I love you\".'\n",
    "print(var01)\n",
    "print(var02)\n"
   ]
  },
  {
   "cell_type": "code",
   "execution_count": 31,
   "id": "f98e7732",
   "metadata": {},
   "outputs": [
    {
     "name": "stdout",
     "output_type": "stream",
     "text": [
      "aaa\n",
      "bbb ccc\tddd\n"
     ]
    }
   ],
   "source": [
    "# 툭수 문자\n",
    "var03 = 'aaa\\nbbb'\n",
    "var04 = 'ccc\\tddd'\n",
    "print(var03, var04)"
   ]
  },
  {
   "cell_type": "code",
   "execution_count": 32,
   "id": "17f81bb7",
   "metadata": {},
   "outputs": [
    {
     "name": "stdout",
     "output_type": "stream",
     "text": [
      "pythonis fun\n",
      "python is fun\n"
     ]
    }
   ],
   "source": [
    "# 문자열 연산 (덧셈)\n",
    "var01 = \"python\"\n",
    "var02 = 'is fun'\n",
    "\n",
    "print(var01+var02)\n",
    "print(var01,var02)"
   ]
  },
  {
   "cell_type": "code",
   "execution_count": 33,
   "id": "876b1636",
   "metadata": {},
   "outputs": [
    {
     "name": "stdout",
     "output_type": "stream",
     "text": [
      "PythonPythonPython\n"
     ]
    }
   ],
   "source": [
    "# 문자열 연산(곱셈)\n",
    "var01 = 'Python'\n",
    "print(var01*3)"
   ]
  },
  {
   "cell_type": "code",
   "execution_count": 34,
   "id": "0072378f",
   "metadata": {},
   "outputs": [
    {
     "name": "stdout",
     "output_type": "stream",
     "text": [
      "====================\n",
      "Python\n",
      "====================\n"
     ]
    }
   ],
   "source": [
    "print(\"=\"*20)\n",
    "print(\"Python\")\n",
    "print(\"=\"*20)"
   ]
  },
  {
   "cell_type": "code",
   "execution_count": 35,
   "id": "fbebf9de",
   "metadata": {},
   "outputs": [
    {
     "name": "stdout",
     "output_type": "stream",
     "text": [
      "*********************\n",
      "Python\t\t파이썬\n",
      "*********************\n",
      "*********************\n",
      "Python\t\t파이썬\n",
      "*********************\n",
      "*********************\tPython\t\t파이썬\t*********************\n"
     ]
    }
   ],
   "source": [
    "print(\"*\"*21+\"\\nPython\\t\\t파이썬\\n\"+\"*\"*21)\n",
    "print(\"*\"*21,\"Python\\t\\t파이썬\",\"*\"*21,sep='\\n')\n",
    "print(\"*\"*21,\"Python\\t\\t파이썬\",\"*\"*21,sep='\\t')"
   ]
  },
  {
   "cell_type": "markdown",
   "id": "25af4d4a",
   "metadata": {},
   "source": [
    "### 문자열 indexing 과 slicing"
   ]
  },
  {
   "cell_type": "code",
   "execution_count": 36,
   "id": "135755d3",
   "metadata": {},
   "outputs": [
    {
     "name": "stdout",
     "output_type": "stream",
     "text": [
      "a\n",
      "abc\n",
      "fghijklmn\n",
      "abcde\n",
      "abc\n",
      "n\n",
      "fghijkl\n"
     ]
    }
   ],
   "source": [
    "str =  \"abcdefghijklmn\"\n",
    "\n",
    "print(str[0])\n",
    "print(str[:2+1])\n",
    "print(str[5:])\n",
    "print(str[:5])\n",
    "print(str[0]+str[1]+str[2])\n",
    "print(str[-1])\n",
    "print(str[5:-2])"
   ]
  },
  {
   "cell_type": "code",
   "execution_count": 37,
   "id": "162375a3",
   "metadata": {},
   "outputs": [
    {
     "name": "stdout",
     "output_type": "stream",
     "text": [
      "2020 1229 Snow\n"
     ]
    }
   ],
   "source": [
    "str = \"20201229Snow\"\n",
    "\n",
    "year = str[0:3+1]\n",
    "day = str [4:7+1]\n",
    "weather = str[8:]\n",
    "\n",
    "print(year, day, weather) # 2020 1229 Snow"
   ]
  },
  {
   "cell_type": "code",
   "execution_count": 38,
   "id": "2d913aa0",
   "metadata": {},
   "outputs": [
    {
     "data": {
      "text/plain": [
       "'abcde'"
      ]
     },
     "execution_count": 38,
     "metadata": {},
     "output_type": "execute_result"
    }
   ],
   "source": [
    "str = \"abbde\"\n",
    "str = str[0:2]+\"c\"+str[3:]\n",
    "str"
   ]
  },
  {
   "cell_type": "markdown",
   "id": "0b377a89",
   "metadata": {},
   "source": [
    "---\n",
    "### 문자열 formatting\n",
    ": %s, %d, %f"
   ]
  },
  {
   "cell_type": "code",
   "execution_count": 39,
   "id": "2d860776",
   "metadata": {},
   "outputs": [
    {
     "name": "stdout",
     "output_type": "stream",
     "text": [
      "I have 2 apples.\n"
     ]
    }
   ],
   "source": [
    "# %d : 정수형 formatting\n",
    "print(\"I have %d apples.\"%2)"
   ]
  },
  {
   "cell_type": "code",
   "execution_count": 40,
   "id": "00450dd4",
   "metadata": {},
   "outputs": [
    {
     "name": "stdout",
     "output_type": "stream",
     "text": [
      "I have 2 apples.\n"
     ]
    }
   ],
   "source": [
    "number = 2\n",
    "print(\"I have %d apples.\"%number)"
   ]
  },
  {
   "cell_type": "code",
   "execution_count": 41,
   "id": "6a953d6c",
   "metadata": {},
   "outputs": [
    {
     "name": "stdout",
     "output_type": "stream",
     "text": [
      "I have two apples.\n"
     ]
    }
   ],
   "source": [
    "# %s : 문자열 formatting\n",
    "print(\"I have %s apples.\"%'two')"
   ]
  },
  {
   "cell_type": "code",
   "execution_count": 42,
   "id": "4e26d146",
   "metadata": {},
   "outputs": [
    {
     "name": "stdout",
     "output_type": "stream",
     "text": [
      "I have 2 apples.\n"
     ]
    }
   ],
   "source": [
    "# 혼합형 formatting\n",
    "number = 2\n",
    "fruit = 'apples'\n",
    "print(\"I have %d %s.\"%(number, fruit))"
   ]
  },
  {
   "cell_type": "code",
   "execution_count": 43,
   "id": "7a9200c6",
   "metadata": {},
   "outputs": [
    {
     "name": "stdout",
     "output_type": "stream",
     "text": [
      "I have 2     applse.\n",
      "I have 2 applse    .\n"
     ]
    }
   ],
   "source": [
    "# 문자열 정렬\n",
    "print(\"I have 2 %10s.\"%'applse')\n",
    "print(\"I have 2 %-10s.\"%'applse')"
   ]
  },
  {
   "cell_type": "code",
   "execution_count": 44,
   "id": "a338a5e9",
   "metadata": {},
   "outputs": [
    {
     "name": "stdout",
     "output_type": "stream",
     "text": [
      "--------------------\n",
      "3.1416\n",
      "    3.1416\n"
     ]
    }
   ],
   "source": [
    "# %f : 실수형 formatting\n",
    "print(\"-\"*20)\n",
    "print(\"%.4f\"%3.14159)\n",
    "print(\"%10.4f\"%3.14159)"
   ]
  },
  {
   "cell_type": "markdown",
   "id": "9bf45f30",
   "metadata": {},
   "source": [
    "---\n",
    "## f-string 포맷팅\n",
    ": python 3.6 이상"
   ]
  },
  {
   "cell_type": "code",
   "execution_count": 45,
   "id": "599bcc34",
   "metadata": {},
   "outputs": [
    {
     "name": "stdout",
     "output_type": "stream",
     "text": [
      "홍길동의 나이는 32살 입니다.\n"
     ]
    }
   ],
   "source": [
    "name = '홍길동'\n",
    "age = 32\n",
    "print(f\"{name}의 나이는 {age}살 입니다.\")"
   ]
  },
  {
   "cell_type": "code",
   "execution_count": 46,
   "id": "b7d11a40",
   "metadata": {},
   "outputs": [],
   "source": [
    "number = 1234567"
   ]
  },
  {
   "cell_type": "code",
   "execution_count": 47,
   "id": "5ade4e22",
   "metadata": {},
   "outputs": [
    {
     "data": {
      "text/plain": [
       "'1234567             '"
      ]
     },
     "execution_count": 47,
     "metadata": {},
     "output_type": "execute_result"
    }
   ],
   "source": [
    "# 좌측 정렬\n",
    "f\"{number:<20}\"\n"
   ]
  },
  {
   "cell_type": "code",
   "execution_count": 48,
   "id": "32f81344",
   "metadata": {},
   "outputs": [
    {
     "data": {
      "text/plain": [
       "'             1234567'"
      ]
     },
     "execution_count": 48,
     "metadata": {},
     "output_type": "execute_result"
    }
   ],
   "source": [
    "# 우측 정렬\n",
    "f\"{number:>20}\""
   ]
  },
  {
   "cell_type": "code",
   "execution_count": 49,
   "id": "97e7a167",
   "metadata": {},
   "outputs": [
    {
     "data": {
      "text/plain": [
       "'      1234567       '"
      ]
     },
     "execution_count": 49,
     "metadata": {},
     "output_type": "execute_result"
    }
   ],
   "source": [
    "# 가운데 정렬\n",
    "f\"{number:^20}\""
   ]
  },
  {
   "cell_type": "code",
   "execution_count": 50,
   "id": "ddccf7a5",
   "metadata": {},
   "outputs": [
    {
     "name": "stdout",
     "output_type": "stream",
     "text": [
      "00000000000001234567\n",
      "#############1234567\n"
     ]
    }
   ],
   "source": [
    "# 빈칸 채우기\n",
    "print(f\"{number:0>20}\")\n",
    "print(f\"{number:#>20}\")"
   ]
  },
  {
   "cell_type": "code",
   "execution_count": 51,
   "id": "79b10e84",
   "metadata": {},
   "outputs": [
    {
     "data": {
      "text/plain": [
       "'1,234,567'"
      ]
     },
     "execution_count": 51,
     "metadata": {},
     "output_type": "execute_result"
    }
   ],
   "source": [
    "# 천 단위 쉼표\n",
    "f\"{number:,}\""
   ]
  },
  {
   "cell_type": "code",
   "execution_count": 52,
   "id": "5eecdbfd",
   "metadata": {},
   "outputs": [
    {
     "name": "stdout",
     "output_type": "stream",
     "text": [
      "'[-----1,234,567------]'\n"
     ]
    }
   ],
   "source": [
    "print(f\"'[{number:-^20,}]'\")"
   ]
  },
  {
   "cell_type": "code",
   "execution_count": 53,
   "id": "2abb27c7",
   "metadata": {},
   "outputs": [
    {
     "data": {
      "text/plain": [
       "'[               3.142]'"
      ]
     },
     "execution_count": 53,
     "metadata": {},
     "output_type": "execute_result"
    }
   ],
   "source": [
    "# 실수 출력\n",
    "f_number = 3.141592\n",
    "f\"[{f_number:20.3f}]\""
   ]
  },
  {
   "cell_type": "markdown",
   "id": "24884418",
   "metadata": {},
   "source": [
    "---\n",
    "### 문자열 관련 함수"
   ]
  },
  {
   "cell_type": "code",
   "execution_count": 54,
   "id": "8e90052b",
   "metadata": {},
   "outputs": [
    {
     "name": "stdout",
     "output_type": "stream",
     "text": [
      "15\n",
      "3\n"
     ]
    }
   ],
   "source": [
    "# 문자 count\n",
    "str = \"I have a dream.\"\n",
    "print(len(str)) # len = length\n",
    "print(str.count(\"a\")) # string 은 class 이기 때문에 안에 method 가 있다! << ex : count () 안의 문자와 일치하는 값 찾기"
   ]
  },
  {
   "cell_type": "code",
   "execution_count": 55,
   "id": "326fdbbb",
   "metadata": {},
   "outputs": [
    {
     "name": "stdout",
     "output_type": "stream",
     "text": [
      "5\n",
      "-1\n"
     ]
    }
   ],
   "source": [
    "# 문자 위치 알려주기 -1\n",
    "print(str.find(\"e\")) # e 가 몇 번째 있는지.\n",
    "print(str.find(\"x\")) # -1 결과는 없다 라는 뜻!"
   ]
  },
  {
   "cell_type": "code",
   "execution_count": 56,
   "id": "f70235e1",
   "metadata": {},
   "outputs": [
    {
     "name": "stdout",
     "output_type": "stream",
     "text": [
      "5\n",
      "5\n"
     ]
    }
   ],
   "source": [
    "# 문자 위치 알려주기 -2\n",
    "print(str.find(\"e\")) # e 가 몇 번째 있는지.\n",
    "# print(str.find(\"x\")) # -1 결과는 없다 라는 뜻!\n",
    "\n",
    "print(str.index(\"e\"))"
   ]
  },
  {
   "cell_type": "code",
   "execution_count": 57,
   "id": "2233f7aa",
   "metadata": {},
   "outputs": [
    {
     "name": "stdout",
     "output_type": "stream",
     "text": [
      "단어 a의 1번의 위치는 3 입니다.\n",
      "단어 a의 2번의 위치는 7 입니다.\n",
      "단어 a의 3번의 위치는 12 입니다.\n"
     ]
    }
   ],
   "source": [
    "# 특정 글자의 모든 위치를 알아내는 방법\n",
    "str = \"I have a dream.\"\n",
    "search_word = \"a\"\n",
    "start = 0\n",
    "count = 0\n",
    "while True :\n",
    "    position = str.find(search_word, start)\n",
    "    if position == -1 :\n",
    "        break\n",
    "    count +=1\n",
    "    print(f\"단어 {search_word}의 {count}번의 위치는 {position} 입니다.\")\n",
    "    start = position + len(search_word)"
   ]
  },
  {
   "cell_type": "code",
   "execution_count": 58,
   "id": "3048f6f7",
   "metadata": {},
   "outputs": [
    {
     "data": {
      "text/plain": [
       "'a,b,c,d,e,f,g'"
      ]
     },
     "execution_count": 58,
     "metadata": {},
     "output_type": "execute_result"
    }
   ],
   "source": [
    "# 문자열 삽입\n",
    "str = \",\"\n",
    "str.join('abcdefg')"
   ]
  },
  {
   "cell_type": "code",
   "execution_count": 59,
   "id": "17ed481c",
   "metadata": {},
   "outputs": [
    {
     "data": {
      "text/plain": [
       "'HI'"
      ]
     },
     "execution_count": 59,
     "metadata": {},
     "output_type": "execute_result"
    }
   ],
   "source": [
    "# 소문자를 대문자로 바꾸기\n",
    "str = \"hi\"\n",
    "str = str.upper()\n",
    "str"
   ]
  },
  {
   "cell_type": "code",
   "execution_count": 60,
   "id": "70984a23",
   "metadata": {},
   "outputs": [
    {
     "data": {
      "text/plain": [
       "'hi'"
      ]
     },
     "execution_count": 60,
     "metadata": {},
     "output_type": "execute_result"
    }
   ],
   "source": [
    "# 소문자로 바꾸기\n",
    "str.lower()"
   ]
  },
  {
   "cell_type": "code",
   "execution_count": 61,
   "id": "76ff7333",
   "metadata": {},
   "outputs": [
    {
     "data": {
      "text/plain": [
       "'hi'"
      ]
     },
     "execution_count": 61,
     "metadata": {},
     "output_type": "execute_result"
    }
   ],
   "source": [
    "# 왼쪽 공백 지우기\n",
    "str = \"          hi\"\n",
    "str.lstrip()"
   ]
  },
  {
   "cell_type": "code",
   "execution_count": 62,
   "id": "3667327a",
   "metadata": {},
   "outputs": [
    {
     "data": {
      "text/plain": [
       "'hi'"
      ]
     },
     "execution_count": 62,
     "metadata": {},
     "output_type": "execute_result"
    }
   ],
   "source": [
    "# 오른쪽 공백 지우기\n",
    "str = \"hi                 \"\n",
    "str.rstrip()"
   ]
  },
  {
   "cell_type": "code",
   "execution_count": 63,
   "id": "77c06f78",
   "metadata": {},
   "outputs": [
    {
     "data": {
      "text/plain": [
       "'hi'"
      ]
     },
     "execution_count": 63,
     "metadata": {},
     "output_type": "execute_result"
    }
   ],
   "source": [
    "# 양쪽 공백 지우기\n",
    "str = \"      hi       \"\n",
    "str.strip()"
   ]
  },
  {
   "cell_type": "code",
   "execution_count": 64,
   "id": "0d62379a",
   "metadata": {},
   "outputs": [
    {
     "data": {
      "text/plain": [
       "'Life is too short to be unhappy.'"
      ]
     },
     "execution_count": 64,
     "metadata": {},
     "output_type": "execute_result"
    }
   ],
   "source": [
    "# 문자열 바꾸기\n",
    "str = \"Life is too short to be happy.\"\n",
    "str.replace(\"happy\", \"unhappy\")"
   ]
  },
  {
   "cell_type": "code",
   "execution_count": 65,
   "id": "beca2ae3",
   "metadata": {},
   "outputs": [
    {
     "data": {
      "text/plain": [
       "'Life'"
      ]
     },
     "execution_count": 65,
     "metadata": {},
     "output_type": "execute_result"
    }
   ],
   "source": [
    "# 문자열 나누기\n",
    "str = \"Life is too short to be happy.\"\n",
    "list01 = str.split()\n",
    "type(list01)\n",
    "list01[0]"
   ]
  },
  {
   "cell_type": "code",
   "execution_count": 66,
   "id": "de76e150",
   "metadata": {},
   "outputs": [
    {
     "data": {
      "text/plain": [
       "['a', 'b', 'c', 'd']"
      ]
     },
     "execution_count": 66,
     "metadata": {},
     "output_type": "execute_result"
    }
   ],
   "source": [
    "str = \"a:b:c:d\"\n",
    "str.split(\":\")"
   ]
  },
  {
   "cell_type": "markdown",
   "id": "cb2ec6a6",
   "metadata": {},
   "source": [
    "### 날짜형 변환"
   ]
  },
  {
   "cell_type": "code",
   "execution_count": 67,
   "id": "deae65fa",
   "metadata": {},
   "outputs": [],
   "source": [
    "from datetime import datetime, timedelta"
   ]
  },
  {
   "cell_type": "code",
   "execution_count": 68,
   "id": "333507c3",
   "metadata": {},
   "outputs": [
    {
     "name": "stdout",
     "output_type": "stream",
     "text": [
      "2020-12-22 21:00:00\n"
     ]
    }
   ],
   "source": [
    "time1 = datetime(2020,12,22,21,0,0,0)\n",
    "print(time1)"
   ]
  },
  {
   "cell_type": "code",
   "execution_count": 69,
   "id": "b0e4758f",
   "metadata": {},
   "outputs": [
    {
     "data": {
      "text/plain": [
       "datetime.datetime"
      ]
     },
     "execution_count": 69,
     "metadata": {},
     "output_type": "execute_result"
    }
   ],
   "source": [
    "type(time1)"
   ]
  },
  {
   "cell_type": "code",
   "execution_count": 70,
   "id": "74d2aef4",
   "metadata": {},
   "outputs": [
    {
     "name": "stdout",
     "output_type": "stream",
     "text": [
      "2025-05-12 15:16:38.896869\n",
      "1601 days, 18:16:38.896869\n"
     ]
    }
   ],
   "source": [
    "# 날짜 계산 하기\n",
    "time2 = datetime.now()\n",
    "print(time2)\n",
    "print(time2-time1)"
   ]
  },
  {
   "cell_type": "code",
   "execution_count": 71,
   "id": "6b7f6f1d",
   "metadata": {},
   "outputs": [
    {
     "name": "stdout",
     "output_type": "stream",
     "text": [
      "1601 일\n",
      "65798 초\n"
     ]
    }
   ],
   "source": [
    "print((time2-time1).days, \"일\")\n",
    "print((time2-time1).seconds, \"초\") # 일자를 제외한 초 만 보여준다."
   ]
  },
  {
   "cell_type": "code",
   "execution_count": 73,
   "id": "901122ae",
   "metadata": {},
   "outputs": [
    {
     "data": {
      "text/plain": [
       "38442"
      ]
     },
     "execution_count": 73,
     "metadata": {},
     "output_type": "execute_result"
    }
   ],
   "source": [
    "# 시간으로 확인하기\n",
    "((time2 - time1).days *24)+ math.floor((time2-time1).seconds/60/60)"
   ]
  },
  {
   "cell_type": "code",
   "execution_count": null,
   "id": "12ac93e3",
   "metadata": {},
   "outputs": [
    {
     "name": "stdout",
     "output_type": "stream",
     "text": [
      "현재 시간 부터 5일 뒤: 2025-05-17 15:16:38.896869\n",
      "현재 시간 부터 3일 전: 2025-05-09 15:16:38.896869\n",
      "현재 시간 부터 1일 뒤의 2시간 전: 2025-05-13 13:16:38.896869\n"
     ]
    }
   ],
   "source": [
    "# 특정 날짜로 부터 시간 계산\n",
    "print(\"현재 시간 부터 5일 뒤:\",time2 + timedelta(days=5))\n",
    "print(\"현재 시간 부터 3일 전:\",time2 + timedelta(days=-3)) \n",
    "print(\"현재 시간 부터 1일 뒤의 2시간 전:\",time2 + timedelta(days=1,hours=-2)) "
   ]
  },
  {
   "cell_type": "markdown",
   "id": "53cd41e1",
   "metadata": {},
   "source": [
    "### 올해 남은 일자 확인하기"
   ]
  },
  {
   "cell_type": "code",
   "execution_count": null,
   "id": "7b65cc8a",
   "metadata": {},
   "outputs": [
    {
     "name": "stdout",
     "output_type": "stream",
     "text": [
      "233\n",
      "233 일\n"
     ]
    }
   ],
   "source": [
    "# 현재 년도\n",
    "timeOnYear = datetime.now().date().year\n",
    "\n",
    "endDate = datetime(timeOnYear,12,31,23,59,59)\n",
    "print((endDate - datetime.now()).days, \"일\")"
   ]
  },
  {
   "cell_type": "markdown",
   "id": "b0b40dde",
   "metadata": {},
   "source": [
    "### 리스트(list) 자료형\n",
    "- 숫자나 문자들의 모음을 하나의 자료형으로 표현하기 위해 사용"
   ]
  },
  {
   "cell_type": "code",
   "execution_count": 89,
   "id": "4be66ce6",
   "metadata": {},
   "outputs": [],
   "source": [
    "# 리스트 자료형 선언\n",
    "var01 = []\n",
    "var02 = [1,2,3]\n",
    "var03 = [\"I\", 'have', 'a', 'dream']\n",
    "var04 = [1, 2, 'Dream', 'True']\n",
    "var05 = [1, 2, ['Dream', 'True']]"
   ]
  },
  {
   "cell_type": "code",
   "execution_count": 91,
   "id": "29f325ff",
   "metadata": {},
   "outputs": [
    {
     "name": "stdout",
     "output_type": "stream",
     "text": [
      "Dream\n",
      "Dream\n"
     ]
    }
   ],
   "source": [
    "# var05 dptj 'Dream' 만 추출하기\n",
    "print(var05[2][0])\n",
    "print(var05[-1][0])"
   ]
  },
  {
   "cell_type": "markdown",
   "id": "faecae88",
   "metadata": {},
   "source": [
    "---\n",
    "### 리스트 연산자"
   ]
  },
  {
   "cell_type": "code",
   "execution_count": 94,
   "id": "d3945ba2",
   "metadata": {},
   "outputs": [
    {
     "data": {
      "text/plain": [
       "[1, 2, 3, 4, 5, 6]"
      ]
     },
     "execution_count": 94,
     "metadata": {},
     "output_type": "execute_result"
    }
   ],
   "source": [
    "# 리스트의 확장\n",
    "var01 = [1,2,3]\n",
    "var02 = [4,5,6]\n",
    "var01 + var02"
   ]
  },
  {
   "cell_type": "code",
   "execution_count": 95,
   "id": "fc7d5870",
   "metadata": {},
   "outputs": [
    {
     "name": "stdout",
     "output_type": "stream",
     "text": [
      "5\n",
      "7\n",
      "9\n"
     ]
    }
   ],
   "source": [
    "# 리스트의 덧셈\n",
    "for i in range(len(var01)):\n",
    "    print(var01[i]+var02[i])"
   ]
  },
  {
   "cell_type": "code",
   "execution_count": 96,
   "id": "1078099f",
   "metadata": {},
   "outputs": [
    {
     "data": {
      "text/plain": [
       "[1, 2, 3, 1, 2, 3, 1, 2, 3]"
      ]
     },
     "execution_count": 96,
     "metadata": {},
     "output_type": "execute_result"
    }
   ],
   "source": [
    "#\n",
    "var01 * 3"
   ]
  },
  {
   "cell_type": "code",
   "execution_count": null,
   "id": "afd96813",
   "metadata": {},
   "outputs": [
    {
     "ename": "TypeError",
     "evalue": "'str' object is not callable",
     "output_type": "error",
     "traceback": [
      "\u001b[0;31m---------------------------------------------------------------------------\u001b[0m",
      "\u001b[0;31mTypeError\u001b[0m                                 Traceback (most recent call last)",
      "Cell \u001b[0;32mIn[98], line 3\u001b[0m\n\u001b[1;32m      1\u001b[0m \u001b[38;5;66;03m# 3hi!\u001b[39;00m\n\u001b[1;32m      2\u001b[0m var \u001b[38;5;241m=\u001b[39m [\u001b[38;5;241m1\u001b[39m,\u001b[38;5;241m2\u001b[39m,\u001b[38;5;241m3\u001b[39m]\n\u001b[0;32m----> 3\u001b[0m \u001b[38;5;28mstr\u001b[39m(var[\u001b[38;5;241m2\u001b[39m]) \u001b[38;5;241m+\u001b[39m \u001b[38;5;124m'\u001b[39m\u001b[38;5;124mhi!\u001b[39m\u001b[38;5;124m'\u001b[39m\n",
      "\u001b[0;31mTypeError\u001b[0m: 'str' object is not callable"
     ]
    }
   ],
   "source": [
    "# 3hi!\n",
    "var = [1,2,3]\n",
    "str(var[2]) + 'hi!'"
   ]
  },
  {
   "cell_type": "code",
   "execution_count": 100,
   "id": "694de961",
   "metadata": {},
   "outputs": [
    {
     "name": "stdout",
     "output_type": "stream",
     "text": [
      "True\n",
      "False\n"
     ]
    }
   ],
   "source": [
    "var = [1,2,3]\n",
    "print(3 in var)\n",
    "print(4 in var)"
   ]
  },
  {
   "cell_type": "markdown",
   "id": "3743ae69",
   "metadata": {},
   "source": [
    "---\n",
    "### 리스트의 수정과 삭제"
   ]
  },
  {
   "cell_type": "code",
   "execution_count": 110,
   "id": "82cef1f8",
   "metadata": {},
   "outputs": [
    {
     "data": {
      "text/plain": [
       "[1, 2, 4]"
      ]
     },
     "execution_count": 110,
     "metadata": {},
     "output_type": "execute_result"
    }
   ],
   "source": [
    "var = [1,2,3]\n",
    "var[2] = 4\n",
    "var"
   ]
  },
  {
   "cell_type": "code",
   "execution_count": null,
   "id": "2fa1db40",
   "metadata": {},
   "outputs": [
    {
     "data": {
      "text/plain": [
       "[1, 'a', 'b', 'c', 4]"
      ]
     },
     "execution_count": 111,
     "metadata": {},
     "output_type": "execute_result"
    }
   ],
   "source": [
    "# list 는 넣는 범위를 잡아주어야 한다!\n",
    "var[1:2] = ['a','b','c']\n",
    "var"
   ]
  },
  {
   "cell_type": "code",
   "execution_count": null,
   "id": "7451455a",
   "metadata": {},
   "outputs": [
    {
     "data": {
      "text/plain": [
       "[1, 'c', 4]"
      ]
     },
     "execution_count": 112,
     "metadata": {},
     "output_type": "execute_result"
    }
   ],
   "source": [
    "var[1:2+1] = []\n",
    "var"
   ]
  },
  {
   "cell_type": "code",
   "execution_count": null,
   "id": "f9f09f7f",
   "metadata": {},
   "outputs": [],
   "source": [
    "del var[1]\n",
    "var"
   ]
  },
  {
   "cell_type": "code",
   "execution_count": 133,
   "id": "9549b232",
   "metadata": {},
   "outputs": [
    {
     "name": "stdout",
     "output_type": "stream",
     "text": [
      "[100, 200, 300, 400, 500, 600, 700]\n"
     ]
    }
   ],
   "source": [
    "# 출력 예) [100,200,300,400,500,600,700]\n",
    "startNum = 100\n",
    "endnum = 700\n",
    "step = 100\n",
    "varEx = list(range(startNum,endnum+1,step))\n",
    "print(varEx)"
   ]
  },
  {
   "cell_type": "code",
   "execution_count": 134,
   "id": "8816f1ef",
   "metadata": {},
   "outputs": [
    {
     "name": "stdout",
     "output_type": "stream",
     "text": [
      "[100, 300, 400, 500, 600, 700]\n"
     ]
    }
   ],
   "source": [
    "# 200 삭제하기\n",
    "del varEx[1]\n",
    "print(varEx)"
   ]
  },
  {
   "cell_type": "code",
   "execution_count": 135,
   "id": "48613408",
   "metadata": {},
   "outputs": [
    {
     "name": "stdout",
     "output_type": "stream",
     "text": [
      "[100, 600, 700]\n"
     ]
    }
   ],
   "source": [
    "# 300, 400, 500 삭제하기\n",
    "varEx[1:3+1] = []\n",
    "# del varEx[1:3+1]\n",
    "print(varEx)"
   ]
  },
  {
   "cell_type": "code",
   "execution_count": 136,
   "id": "3474777f",
   "metadata": {},
   "outputs": [
    {
     "name": "stdout",
     "output_type": "stream",
     "text": [
      "[100, 200, 300, 400, 500, 600, 700]\n"
     ]
    }
   ],
   "source": [
    "# 원상태로 복원하기\n",
    "varEx[1:1] = list(range(200,500+1,100))\n",
    "print(varEx) "
   ]
  },
  {
   "cell_type": "markdown",
   "id": "56f54f43",
   "metadata": {},
   "source": [
    "---\n",
    "### 리스트 관련 함수"
   ]
  },
  {
   "cell_type": "code",
   "execution_count": null,
   "id": "78c26cb1",
   "metadata": {},
   "outputs": [
    {
     "data": {
      "text/plain": [
       "[1, 2, 3, 4, [5, 6]]"
      ]
     },
     "execution_count": 139,
     "metadata": {},
     "output_type": "execute_result"
    }
   ],
   "source": [
    "# 리스트에 데이터 추가하기\n",
    "var = [1,2,3]\n",
    "var.append(4) # 맨 뒤로 들어간다.\n",
    "var.append([5,6]) # 리스트로 넣으면 리스트로 들어간다.\n",
    "var"
   ]
  },
  {
   "cell_type": "code",
   "execution_count": 142,
   "id": "b33327b2",
   "metadata": {},
   "outputs": [
    {
     "name": "stdout",
     "output_type": "stream",
     "text": [
      "[1, 2, 3, 4]\n",
      "[4, 3, 2, 1]\n"
     ]
    }
   ],
   "source": [
    "# 리스트의 정렬\n",
    "var = [1,4,3,2]\n",
    "\n",
    "# 오름차순 정렬\n",
    "var.sort() # 먼저 해주고 출력 해야한다!\n",
    "print(var)\n",
    "# 내림차순 정렬\n",
    "var.reverse()\n",
    "print(var)"
   ]
  },
  {
   "cell_type": "code",
   "execution_count": null,
   "id": "6976d709",
   "metadata": {},
   "outputs": [
    {
     "data": {
      "text/plain": [
       "[4, 1, 2, 3]"
      ]
     },
     "execution_count": 143,
     "metadata": {},
     "output_type": "execute_result"
    }
   ],
   "source": [
    "# 리스트에 데이터 삽입\n",
    "var = [1,2,3]\n",
    "var.insert(0, 4) # 0번 위치에 4를 삽입\n",
    "var\n"
   ]
  },
  {
   "cell_type": "code",
   "execution_count": null,
   "id": "35fe5af5",
   "metadata": {},
   "outputs": [
    {
     "name": "stdout",
     "output_type": "stream",
     "text": [
      "[1, 2, 3]\n"
     ]
    }
   ],
   "source": [
    "# 리스트의 요소 제거\n",
    "var = [1,2,3,4,4,4,5]\n",
    "var.remove(4) # 4 라는 데이터를 지우겠다. / del 은 index 번호를 추적해 지운다. / 여러 개 일 경우 count 를 해서 그 수 만큼 for 문을 돌려준다.\n",
    "print(var)"
   ]
  },
  {
   "cell_type": "code",
   "execution_count": 145,
   "id": "2584fa02",
   "metadata": {},
   "outputs": [
    {
     "name": "stdout",
     "output_type": "stream",
     "text": [
      "3\n",
      "[1, 2]\n"
     ]
    }
   ],
   "source": [
    "# 리스트에서 데이터 꺼내기\n",
    "var = [1,2,3]\n",
    "print(var.pop()) # 리스트의 마지막 데이터를 보여주고 해당 데이터는 삭제\n",
    "print(var)"
   ]
  },
  {
   "cell_type": "code",
   "execution_count": 147,
   "id": "013f5196",
   "metadata": {},
   "outputs": [
    {
     "name": "stdout",
     "output_type": "stream",
     "text": [
      "3\n",
      "2\n",
      "1\n",
      "[]\n"
     ]
    }
   ],
   "source": [
    "# for 문을 사용한 pop\n",
    "var = [1,2,3]\n",
    "for _ in range(len(var)) : # 쓰지 않는 변수는 언더바 (_) 표시 한다.\n",
    "    print(var.pop())\n",
    "print(var)"
   ]
  },
  {
   "cell_type": "code",
   "execution_count": null,
   "id": "d85ef228",
   "metadata": {},
   "outputs": [
    {
     "name": "stdout",
     "output_type": "stream",
     "text": [
      "1\n",
      "[2, 3]\n"
     ]
    }
   ],
   "source": [
    "# 원하는 위치를 pop 하기\n",
    "var = [1,2,3]\n",
    "print(var.pop(0)) # 0번 자리를 pop\n",
    "print(var)"
   ]
  },
  {
   "cell_type": "code",
   "execution_count": null,
   "id": "37b6e857",
   "metadata": {},
   "outputs": [
    {
     "name": "stdout",
     "output_type": "stream",
     "text": [
      "[1, 2, 3, 4, 5, 6]\n"
     ]
    }
   ],
   "source": [
    "# 리스트의 확장\n",
    "var = [1,2,3,4]\n",
    "var.extend([5,6]) # extend : list 형태로 삽입되지 않는다! / append : list 형태로 삽입 된다.\n",
    "print(var)"
   ]
  },
  {
   "cell_type": "markdown",
   "id": "3f1aa2a4",
   "metadata": {},
   "source": [
    "### EX"
   ]
  },
  {
   "cell_type": "code",
   "execution_count": null,
   "id": "efa2648a",
   "metadata": {},
   "outputs": [
    {
     "data": {
      "text/plain": [
       "55"
      ]
     },
     "execution_count": 157,
     "metadata": {},
     "output_type": "execute_result"
    }
   ],
   "source": [
    "# 1 부터 10 까지의 수 중 짝수 List 와 홀수 List 를 따로 생성하고\n",
    "# 짝수 List 에 홀수 List 를 확장하여 합계 구하기\n",
    "evenVar =  list(range(2,10+1,2))\n",
    "oddVar = list(range(1,10+1,2))\n",
    "evenVar.extend(oddVar)\n",
    "\n",
    "sum(evenVar)    # for 문을 사용하지 않아도 된다."
   ]
  },
  {
   "cell_type": "markdown",
   "id": "ebdd04d3",
   "metadata": {},
   "source": [
    "### EX\n",
    ": 아래 리스트를 필요한 부분을 발췌하여\n",
    "Hello World! My name is Alice and I`m 30 years old. 로 출력하기"
   ]
  },
  {
   "cell_type": "code",
   "execution_count": 159,
   "id": "8423f8a1",
   "metadata": {},
   "outputs": [
    {
     "name": "stdout",
     "output_type": "stream",
     "text": [
      "Hello World! My name is Alice and I`m 30 years old.\n"
     ]
    }
   ],
   "source": [
    "list01 = [1,3.14,'Hello World!',True,[170,50,30],['Alice','Cathy']]\n",
    "print(f\"{list01[2]} My name is {list01[-1][0]} and I`m {list01[-2][2]} years old.\")"
   ]
  },
  {
   "cell_type": "markdown",
   "id": "3f3c06b0",
   "metadata": {},
   "source": [
    "### 리스트의 복사\n",
    "1. Call by Reference"
   ]
  },
  {
   "cell_type": "code",
   "execution_count": null,
   "id": "0bc090b5",
   "metadata": {},
   "outputs": [],
   "source": [
    "# 이렇게 쓰면 법원 간다!\n",
    "var01 = [1,2,3,4]\n",
    "var02 = var01"
   ]
  },
  {
   "cell_type": "code",
   "execution_count": 161,
   "id": "1ea0c1c6",
   "metadata": {},
   "outputs": [],
   "source": [
    "var02[0] =10"
   ]
  },
  {
   "cell_type": "code",
   "execution_count": 163,
   "id": "983d4889",
   "metadata": {},
   "outputs": [
    {
     "name": "stdout",
     "output_type": "stream",
     "text": [
      "[10, 2, 3, 4]\n",
      "[10, 2, 3, 4]\n"
     ]
    }
   ],
   "source": [
    "print(var01)\n",
    "print(var02)"
   ]
  },
  {
   "cell_type": "code",
   "execution_count": 164,
   "id": "96e659ea",
   "metadata": {},
   "outputs": [],
   "source": [
    "# 이렇게 써야 안간다.\n",
    "var01 = [1,2,3,4]\n",
    "var02 = var01.copy()"
   ]
  },
  {
   "cell_type": "code",
   "execution_count": 165,
   "id": "1e37cc7e",
   "metadata": {},
   "outputs": [],
   "source": [
    "var02[0] =10"
   ]
  },
  {
   "cell_type": "code",
   "execution_count": 166,
   "id": "b9fa362b",
   "metadata": {},
   "outputs": [
    {
     "name": "stdout",
     "output_type": "stream",
     "text": [
      "[1, 2, 3, 4]\n",
      "[10, 2, 3, 4]\n"
     ]
    }
   ],
   "source": [
    "print(var01)\n",
    "print(var02)"
   ]
  },
  {
   "cell_type": "code",
   "execution_count": 167,
   "id": "21b15bfe",
   "metadata": {},
   "outputs": [
    {
     "name": "stdout",
     "output_type": "stream",
     "text": [
      "[1, 2, 3, 4]\n",
      "[10, 2, 3, 4]\n"
     ]
    }
   ],
   "source": [
    "# 이렇게 해도 된다.\n",
    "from copy import copy\n",
    "var01 = [1,2,3,4]\n",
    "var02 = copy(var01)\n",
    "var02[0] =10\n",
    "print(var01)\n",
    "print(var02)"
   ]
  },
  {
   "cell_type": "code",
   "execution_count": 168,
   "id": "70d71af1",
   "metadata": {},
   "outputs": [
    {
     "name": "stdout",
     "output_type": "stream",
     "text": [
      "[1, 2, 3, 4]\n",
      "[10, 2, 3, 4]\n"
     ]
    }
   ],
   "source": [
    "# 이렇게 해도 된다.\n",
    "var01 = [1,2,3,4]\n",
    "var02 = var01[:]\n",
    "var02[0] =10\n",
    "print(var01)\n",
    "print(var02)"
   ]
  },
  {
   "cell_type": "code",
   "execution_count": null,
   "id": "74ac2635",
   "metadata": {},
   "outputs": [],
   "source": []
  }
 ],
 "metadata": {
  "kernelspec": {
   "display_name": "base",
   "language": "python",
   "name": "python3"
  },
  "language_info": {
   "codemirror_mode": {
    "name": "ipython",
    "version": 3
   },
   "file_extension": ".py",
   "mimetype": "text/x-python",
   "name": "python",
   "nbconvert_exporter": "python",
   "pygments_lexer": "ipython3",
   "version": "3.12.7"
  }
 },
 "nbformat": 4,
 "nbformat_minor": 5
}
