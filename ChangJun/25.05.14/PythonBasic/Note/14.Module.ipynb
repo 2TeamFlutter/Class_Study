{
 "cells": [
  {
   "cell_type": "markdown",
   "id": "29e4e62d",
   "metadata": {},
   "source": [
    "### Module\n",
    ": 함수나, 변수, 클래스 들을 모아 놓은 파일"
   ]
  },
  {
   "cell_type": "code",
   "execution_count": 2,
   "id": "e931615b",
   "metadata": {},
   "outputs": [
    {
     "name": "stdout",
     "output_type": "stream",
     "text": [
      "7\n"
     ]
    }
   ],
   "source": [
    "import mod1\n",
    "print(mod1.sum(3,4))"
   ]
  },
  {
   "cell_type": "code",
   "execution_count": 8,
   "id": "4bbe82af",
   "metadata": {},
   "outputs": [
    {
     "name": "stdout",
     "output_type": "stream",
     "text": [
      "더하기를 할 수 없습니다.\n",
      "None\n",
      "10\n",
      "ab\n"
     ]
    }
   ],
   "source": [
    "import mod2\n",
    "print(mod2.sum(\"rr\",3))\n",
    "print(mod2.sum(5,5))\n",
    "print(mod2.sum(\"a\",\"b\"))\n"
   ]
  },
  {
   "cell_type": "code",
   "execution_count": null,
   "id": "a1c22edd",
   "metadata": {},
   "outputs": [
    {
     "data": {
      "text/plain": [
       "11"
      ]
     },
     "execution_count": 9,
     "metadata": {},
     "output_type": "execute_result"
    }
   ],
   "source": [
    "# module 에서 함수 하나만 빼서 쓰기\n",
    "from mod2 import sum\n",
    "sum(5,6)"
   ]
  },
  {
   "cell_type": "markdown",
   "id": "72ccce31",
   "metadata": {},
   "source": [
    "### 많이 사용되는 Alias name\n",
    " - import numpy as np\n",
    " - import pandas ad pd\n",
    " - import matplotlib.pyplot as plt      : 차트 시각화\n",
    " - import tensorflow as tf\n",
    " - import seaborn as sns\n",
    " - import torch as pt                   : 파이토치"
   ]
  },
  {
   "cell_type": "code",
   "execution_count": null,
   "id": "875bc4c3",
   "metadata": {},
   "outputs": [],
   "source": []
  }
 ],
 "metadata": {
  "kernelspec": {
   "display_name": "base",
   "language": "python",
   "name": "python3"
  },
  "language_info": {
   "codemirror_mode": {
    "name": "ipython",
    "version": 3
   },
   "file_extension": ".py",
   "mimetype": "text/x-python",
   "name": "python",
   "nbconvert_exporter": "python",
   "pygments_lexer": "ipython3",
   "version": "3.12.7"
  }
 },
 "nbformat": 4,
 "nbformat_minor": 5
}
