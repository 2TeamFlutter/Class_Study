{
 "cells": [
  {
   "cell_type": "markdown",
   "id": "9d7bb825",
   "metadata": {},
   "source": [
    "### 시뮬레이션 (몬테카를로 시뮬레이션)\n",
    ": 자료가 없을 경우 난수를 통해서 가설을 증명    \n",
    "\n",
    "##### 동전의 앞면과 뒷면이 나올 확률이 같다는 것을 증명"
   ]
  },
  {
   "cell_type": "code",
   "execution_count": 1,
   "id": "efba6420",
   "metadata": {},
   "outputs": [],
   "source": [
    "import random"
   ]
  },
  {
   "cell_type": "code",
   "execution_count": 7,
   "id": "193c93a1",
   "metadata": {},
   "outputs": [
    {
     "data": {
      "text/plain": [
       "2"
      ]
     },
     "execution_count": 7,
     "metadata": {},
     "output_type": "execute_result"
    }
   ],
   "source": [
    "random.randint(1,2)"
   ]
  },
  {
   "cell_type": "code",
   "execution_count": 17,
   "id": "bc4b895e",
   "metadata": {},
   "outputs": [
    {
     "name": "stdout",
     "output_type": "stream",
     "text": [
      "앞면\n"
     ]
    }
   ],
   "source": [
    "# 난수를 통한 방법 알아보기\n",
    "x = random.randint(1,2)\n",
    "if x == 1:\n",
    "    result = \"앞면\"\n",
    "else :\n",
    "    result = \"뒷면\"\n",
    "print(result)"
   ]
  },
  {
   "cell_type": "code",
   "execution_count": null,
   "id": "b692a54f",
   "metadata": {},
   "outputs": [],
   "source": [
    "# 동전의 앞면과 뒷면 결과값을 함수로 만들기\n",
    "# 재귀 방식의 하수\n",
    "def fact_rec(n):\n",
    "    if n==1 :\n",
    "        return n\n",
    "    else : \n",
    "        return n * fact_rec(n-1)"
   ]
  },
  {
   "cell_type": "code",
   "execution_count": null,
   "id": "df795ddc",
   "metadata": {},
   "outputs": [],
   "source": [
    "# recursion 으로 만들다 실패한 함수\n",
    "def coinF(count):\n",
    "    count_On = 0\n",
    "    count_Off = 0\n",
    "    x = random.randint(1,2)\n",
    "    if count == 1:\n",
    "        return count_On, count_Off\n",
    "    else : \n",
    "        if x == 1:\n",
    "            count_On +=1\n",
    "        else :\n",
    "            count_Off +=1\n",
    "        return coinF(count-1)"
   ]
  },
  {
   "cell_type": "code",
   "execution_count": 30,
   "id": "69558d65",
   "metadata": {},
   "outputs": [],
   "source": [
    "# for 문으로 만든 함수!\n",
    "def coinF(count):\n",
    "    count_On = count_Off = 0\n",
    "    for i in range(1,count+1) :\n",
    "        x = random.randint(1,2)\n",
    "        if x==1:\n",
    "            count_On+=1\n",
    "        else :\n",
    "            count_Off+=1\n",
    "    return print(f\"{count} 번 시도, 앞면 : {count_On}, 뒷면 : {count_Off}\")"
   ]
  },
  {
   "cell_type": "code",
   "execution_count": 31,
   "id": "6b627917",
   "metadata": {},
   "outputs": [
    {
     "name": "stdout",
     "output_type": "stream",
     "text": [
      "10 번 시도, 앞면 : 5, 뒷면 : 5\n",
      "100 번 시도, 앞면 : 52, 뒷면 : 48\n",
      "1000 번 시도, 앞면 : 513, 뒷면 : 487\n",
      "10000 번 시도, 앞면 : 4999, 뒷면 : 5001\n",
      "100000 번 시도, 앞면 : 50144, 뒷면 : 49856\n",
      "1000000 번 시도, 앞면 : 499574, 뒷면 : 500426\n"
     ]
    }
   ],
   "source": [
    "coinF(10)\n",
    "coinF(100)\n",
    "coinF(1000)\n",
    "coinF(10000)\n",
    "coinF(100000)\n",
    "coinF(1000000)"
   ]
  },
  {
   "cell_type": "markdown",
   "id": "63085c03",
   "metadata": {},
   "source": [
    "### 주사위 번호가 나올 확률이 같다는 것을 증명"
   ]
  },
  {
   "cell_type": "code",
   "execution_count": 38,
   "id": "a942575d",
   "metadata": {},
   "outputs": [],
   "source": [
    "def dice(num) :\n",
    "    result_list = [0,0,0,0,0,0]\n",
    "    for i in range(1,num+1):\n",
    "        x = random.randint(1,6)\n",
    "        result_list[x-1] +=1\n",
    "    print(f\"{num} 번 시도시 --->\")\n",
    "    for i in range(0,5+1,3):\n",
    "        print(f\"{i+1} : {result_list[i]} | {i+2} : {result_list[i+1]} | {i+3} : {result_list[i+2]}\")\n",
    "    print(\"-\"*60)\n",
    "\n",
    "\n"
   ]
  },
  {
   "cell_type": "code",
   "execution_count": 32,
   "id": "0b917747",
   "metadata": {},
   "outputs": [],
   "source": [
    "def dice(num):\n",
    "    result1 = 0\n",
    "    result2 = 0\n",
    "    result3 = 0\n",
    "    result4 = 0\n",
    "    result5 = 0\n",
    "    result6 = 0\n",
    "    for i in range(1,num+1):\n",
    "        x = random.randint(1,6)\n",
    "        match x :\n",
    "            case 1 :\n",
    "                result1 +=1\n",
    "            case 2 :\n",
    "                result2 +=1\n",
    "            case 3 :\n",
    "                result3 +=1\n",
    "            case 4 :\n",
    "                result4 +=1\n",
    "            case 5 :\n",
    "                result5 +=1\n",
    "            case 6 :\n",
    "                result6 +=1\n",
    "        return print(f\"{num} 번 시도시 ===>\", f\"1은 {result1} 번 검출 | 2는 {result2} 번 검출 | 3은 {result3} 번 검출)\",f\"4은 {result4} 번 검출 | 5는 {result5} 번 검출 | 6은 {result6} 번 검출)\")"
   ]
  },
  {
   "cell_type": "code",
   "execution_count": 39,
   "id": "c1df9b04",
   "metadata": {},
   "outputs": [
    {
     "name": "stdout",
     "output_type": "stream",
     "text": [
      "10 번 시도시 --->\n",
      "1 : 3 | 2 : 1 | 3 : 2\n",
      "4 : 3 | 5 : 0 | 6 : 1\n",
      "------------------------------------------------------------\n",
      "100 번 시도시 --->\n",
      "1 : 16 | 2 : 11 | 3 : 16\n",
      "4 : 21 | 5 : 17 | 6 : 19\n",
      "------------------------------------------------------------\n",
      "1000 번 시도시 --->\n",
      "1 : 162 | 2 : 179 | 3 : 168\n",
      "4 : 160 | 5 : 161 | 6 : 170\n",
      "------------------------------------------------------------\n",
      "10000 번 시도시 --->\n",
      "1 : 1694 | 2 : 1751 | 3 : 1593\n",
      "4 : 1627 | 5 : 1658 | 6 : 1677\n",
      "------------------------------------------------------------\n",
      "100000 번 시도시 --->\n",
      "1 : 16807 | 2 : 16724 | 3 : 16562\n",
      "4 : 16665 | 5 : 16591 | 6 : 16651\n",
      "------------------------------------------------------------\n",
      "1000000 번 시도시 --->\n",
      "1 : 167236 | 2 : 166986 | 3 : 166355\n",
      "4 : 166050 | 5 : 167070 | 6 : 166303\n",
      "------------------------------------------------------------\n"
     ]
    }
   ],
   "source": [
    "dice(10)\n",
    "dice(100)\n",
    "dice(1000)\n",
    "dice(10000)\n",
    "dice(100000)\n",
    "dice(1000000)"
   ]
  },
  {
   "cell_type": "code",
   "execution_count": null,
   "id": "661d6caa",
   "metadata": {},
   "outputs": [],
   "source": []
  }
 ],
 "metadata": {
  "kernelspec": {
   "display_name": "base",
   "language": "python",
   "name": "python3"
  },
  "language_info": {
   "codemirror_mode": {
    "name": "ipython",
    "version": 3
   },
   "file_extension": ".py",
   "mimetype": "text/x-python",
   "name": "python",
   "nbconvert_exporter": "python",
   "pygments_lexer": "ipython3",
   "version": "3.12.7"
  }
 },
 "nbformat": 4,
 "nbformat_minor": 5
}
