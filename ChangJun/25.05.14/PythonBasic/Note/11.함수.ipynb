{
 "cells": [
  {
   "cell_type": "markdown",
   "id": "f434170a",
   "metadata": {},
   "source": [
    "### 덧셈 기능과 곱셈 기능을 구분하여 숫자의 결과를 보여주는 함수"
   ]
  },
  {
   "cell_type": "code",
   "execution_count": null,
   "id": "114774df",
   "metadata": {},
   "outputs": [],
   "source": [
    "# 특정한 결과값을 무시하고 싶은 경우 "
   ]
  },
  {
   "cell_type": "code",
   "execution_count": 5,
   "id": "9b793aba",
   "metadata": {},
   "outputs": [],
   "source": [
    "def say_nickF(nick):\n",
    "    if nick == \"바보\" :\n",
    "        return\n",
    "    return (f\"나의 별명은 {nick} 입니다.\")"
   ]
  },
  {
   "cell_type": "code",
   "execution_count": 6,
   "id": "1124fa3d",
   "metadata": {},
   "outputs": [
    {
     "name": "stdout",
     "output_type": "stream",
     "text": [
      "나의 별명은 천재 입니다.\n"
     ]
    }
   ],
   "source": [
    "print(say_nickF('천재'))"
   ]
  },
  {
   "cell_type": "code",
   "execution_count": 7,
   "id": "aa000bc9",
   "metadata": {},
   "outputs": [
    {
     "name": "stdout",
     "output_type": "stream",
     "text": [
      "None\n"
     ]
    }
   ],
   "source": [
    "print(say_nickF(\"바보\"))"
   ]
  },
  {
   "cell_type": "markdown",
   "id": "1231c1a5",
   "metadata": {},
   "source": [
    "### 함수의 초기값 (default value) 설정하기"
   ]
  },
  {
   "cell_type": "code",
   "execution_count": 10,
   "id": "d5280ed7",
   "metadata": {},
   "outputs": [],
   "source": [
    "def say_myself(name, old, gender = True):\n",
    "    print(f\"나의 이름은 {name} 입니다.\")\n",
    "    print(f\"나의 나이은 {old} 입니다.\")\n",
    "    print(f\"남자 입니다.\" if gender else \"여자 입니다.\")"
   ]
  },
  {
   "cell_type": "code",
   "execution_count": 11,
   "id": "609ef8fe",
   "metadata": {},
   "outputs": [
    {
     "name": "stdout",
     "output_type": "stream",
     "text": [
      "나의 이름은 유비 입니다.\n",
      "나의 나이은 30 입니다.\n",
      "남자 입니다.\n"
     ]
    }
   ],
   "source": [
    "say_myself(\"유비\",30)"
   ]
  },
  {
   "cell_type": "code",
   "execution_count": 12,
   "id": "dedde925",
   "metadata": {},
   "outputs": [
    {
     "name": "stdout",
     "output_type": "stream",
     "text": [
      "나의 이름은 관우 입니다.\n",
      "나의 나이은 30 입니다.\n",
      "남자 입니다.\n"
     ]
    }
   ],
   "source": [
    "say_myself(\"관우\",30,True)"
   ]
  },
  {
   "cell_type": "code",
   "execution_count": 14,
   "id": "c468c008",
   "metadata": {},
   "outputs": [
    {
     "name": "stdout",
     "output_type": "stream",
     "text": [
      "나의 이름은 초선 입니다.\n",
      "나의 나이은 30 입니다.\n",
      "여자 입니다.\n"
     ]
    }
   ],
   "source": [
    "say_myself(\"초선\",30,False)"
   ]
  },
  {
   "cell_type": "code",
   "execution_count": 15,
   "id": "e69dbe23",
   "metadata": {},
   "outputs": [],
   "source": [
    "x = 0\n",
    "\n",
    "def func1():\n",
    "    x = 1\n",
    "    print(x)\n",
    "\n",
    "def func2():\n",
    "    print(x)"
   ]
  },
  {
   "cell_type": "code",
   "execution_count": 17,
   "id": "7513eb7a",
   "metadata": {},
   "outputs": [
    {
     "name": "stdout",
     "output_type": "stream",
     "text": [
      "1\n",
      "0\n"
     ]
    }
   ],
   "source": [
    "func1()\n",
    "func2()"
   ]
  },
  {
   "cell_type": "code",
   "execution_count": null,
   "id": "92fb73c3",
   "metadata": {},
   "outputs": [],
   "source": [
    "# 함수 안에 있는 지역 변수를 전역 변수로 선언하는 법 : global\n",
    "x = 0\n",
    "\n",
    "def func1():\n",
    "    global x\n",
    "    x = 1\n",
    "    print(x)\n",
    "\n",
    "def func2():\n",
    "    print(x)"
   ]
  },
  {
   "cell_type": "code",
   "execution_count": 19,
   "id": "d058dd74",
   "metadata": {},
   "outputs": [
    {
     "name": "stdout",
     "output_type": "stream",
     "text": [
      "1\n",
      "1\n"
     ]
    }
   ],
   "source": [
    "func1()\n",
    "func2()"
   ]
  },
  {
   "cell_type": "markdown",
   "id": "8fa37bf3",
   "metadata": {},
   "source": [
    "### Ex\n",
    "원의 면적과 둘레를 구하는 함수"
   ]
  },
  {
   "cell_type": "code",
   "execution_count": null,
   "id": "f023dbcf",
   "metadata": {},
   "outputs": [],
   "source": [
    "import math\n",
    "def circle_length(radious):\n",
    "    result2 = 2 * radious * math.pi\n",
    "    return result2\n",
    "def circle_area(radious) :\n",
    "    result1 = math.pow(radious, 2) * math.pi\n",
    "    return result1"
   ]
  },
  {
   "cell_type": "code",
   "execution_count": 26,
   "id": "1f73f9eb",
   "metadata": {},
   "outputs": [
    {
     "name": "stdout",
     "output_type": "stream",
     "text": [
      "78.53981633974483\n",
      "31.41592653589793\n"
     ]
    }
   ],
   "source": [
    "area = circle_area(5)  \n",
    "length = circle_length(5)\n",
    "print(area)\n",
    "print(length)"
   ]
  },
  {
   "cell_type": "markdown",
   "id": "125b9e75",
   "metadata": {},
   "source": [
    "---\n",
    "### 람다 (lambda) 함수\n",
    " - 보통 함수를 한 줄로 간결하게 만들때 사용한다.\n",
    " - return 이 없다. (안써도 return 이다.)"
   ]
  },
  {
   "cell_type": "code",
   "execution_count": 27,
   "id": "58b6e349",
   "metadata": {},
   "outputs": [],
   "source": [
    "def addFunction(a,b):\n",
    "    return a+b"
   ]
  },
  {
   "cell_type": "code",
   "execution_count": 28,
   "id": "e0fa70b6",
   "metadata": {},
   "outputs": [
    {
     "data": {
      "text/plain": [
       "30"
      ]
     },
     "execution_count": 28,
     "metadata": {},
     "output_type": "execute_result"
    }
   ],
   "source": [
    "addFunction(10,20)"
   ]
  },
  {
   "cell_type": "code",
   "execution_count": 29,
   "id": "9f288424",
   "metadata": {},
   "outputs": [
    {
     "data": {
      "text/plain": [
       "30"
      ]
     },
     "execution_count": 29,
     "metadata": {},
     "output_type": "execute_result"
    }
   ],
   "source": [
    "# 위의 함수를 람다함수로 변환\n",
    "addLambda = lambda a, b : a + b\n",
    "addLambda(10,20)"
   ]
  },
  {
   "cell_type": "markdown",
   "id": "902fce65",
   "metadata": {},
   "source": [
    "### 중첩 함수 (nested function) / 내부 함수(inner function)\n",
    ": 함수 안에서 다른 함수를 정의"
   ]
  },
  {
   "cell_type": "code",
   "execution_count": 30,
   "id": "429243cd",
   "metadata": {},
   "outputs": [],
   "source": [
    "def outer_function(x,y):\n",
    "    def inner_function(z) :\n",
    "        return x+y+z\n",
    "    return inner_function"
   ]
  },
  {
   "cell_type": "code",
   "execution_count": 32,
   "id": "26b0a83e",
   "metadata": {},
   "outputs": [
    {
     "name": "stdout",
     "output_type": "stream",
     "text": [
      "6\n",
      "7\n"
     ]
    }
   ],
   "source": [
    "result = outer_function(1,2)\n",
    "print(result(3))\n",
    "print(result(4))"
   ]
  },
  {
   "cell_type": "markdown",
   "id": "567b8f6b",
   "metadata": {},
   "source": [
    "---\n",
    "### 재귀(Recursion)\n",
    ": 계산을 위해 자기 자신을 참조하는 방법"
   ]
  },
  {
   "cell_type": "markdown",
   "id": "feabb740",
   "metadata": {},
   "source": [
    "#### factorial 함수"
   ]
  },
  {
   "cell_type": "code",
   "execution_count": 33,
   "id": "f37c9884",
   "metadata": {},
   "outputs": [],
   "source": [
    "# 반복 방식 /가정은 n 은 0 보다 큰 정수이다.\n",
    "def fact_iter(n):\n",
    "    result = 1\n",
    "    for i in range (1, n+1) :\n",
    "        result *= i\n",
    "    return result\n"
   ]
  },
  {
   "cell_type": "code",
   "execution_count": 36,
   "id": "3343fa88",
   "metadata": {},
   "outputs": [
    {
     "name": "stdout",
     "output_type": "stream",
     "text": [
      "120\n"
     ]
    }
   ],
   "source": [
    "print(fact_iter(5))"
   ]
  },
  {
   "cell_type": "code",
   "execution_count": 37,
   "id": "e31b63b9",
   "metadata": {},
   "outputs": [],
   "source": [
    "# 재귀 방식의 하수\n",
    "def fact_rec(n):\n",
    "    if n==1 :\n",
    "        return n\n",
    "    else : \n",
    "        return n * fact_rec(n-1)"
   ]
  },
  {
   "cell_type": "code",
   "execution_count": 40,
   "id": "c3426d8e",
   "metadata": {},
   "outputs": [
    {
     "name": "stdout",
     "output_type": "stream",
     "text": [
      "120\n"
     ]
    }
   ],
   "source": [
    "print(fact_rec(5))"
   ]
  },
  {
   "cell_type": "code",
   "execution_count": null,
   "id": "a6e17267",
   "metadata": {},
   "outputs": [],
   "source": []
  }
 ],
 "metadata": {
  "kernelspec": {
   "display_name": "base",
   "language": "python",
   "name": "python3"
  },
  "language_info": {
   "codemirror_mode": {
    "name": "ipython",
    "version": 3
   },
   "file_extension": ".py",
   "mimetype": "text/x-python",
   "name": "python",
   "nbconvert_exporter": "python",
   "pygments_lexer": "ipython3",
   "version": "3.12.7"
  }
 },
 "nbformat": 4,
 "nbformat_minor": 5
}
