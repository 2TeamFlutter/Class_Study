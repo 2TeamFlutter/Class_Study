{
 "cells": [
  {
   "cell_type": "markdown",
   "id": "7d75995b",
   "metadata": {},
   "source": [
    "### file 읽고 쓰기\n",
    "파일 객체 = open(파일 이름, 파일 열기 모드)    \n",
    "파일 열기 모드 : r(읽기), w(쓰기), a(추가)"
   ]
  },
  {
   "cell_type": "code",
   "execution_count": 1,
   "id": "13b4f324",
   "metadata": {},
   "outputs": [],
   "source": [
    "# 파일을 쓰기모드로 열어 출력값 저장하기.\n",
    "f = open(\"../Data/new.txt\",\"w\")\n",
    "for i in range(1, 10+1):\n",
    "    f.write(f\"{i} 번째 줄 입니다.\\n\")\n",
    "f.close()\n"
   ]
  },
  {
   "cell_type": "code",
   "execution_count": 3,
   "id": "f62616f7",
   "metadata": {},
   "outputs": [
    {
     "name": "stdout",
     "output_type": "stream",
     "text": [
      "1 번째 줄 입니다.\n",
      "2 번째 줄 입니다.\n",
      "3 번째 줄 입니다.\n",
      "4 번째 줄 입니다.\n",
      "5 번째 줄 입니다.\n",
      "6 번째 줄 입니다.\n",
      "7 번째 줄 입니다.\n",
      "8 번째 줄 입니다.\n",
      "9 번째 줄 입니다.\n",
      "10 번째 줄 입니다.\n"
     ]
    }
   ],
   "source": [
    "# 파일을 읽기 모드로 열어 파일 내용 출력하기 - Method 1\n",
    "f = open(\"../Data/new.txt\", \"r\")\n",
    "while True:\n",
    "    line = f.readline()\n",
    "    if not line:\n",
    "        break\n",
    "    print(line, end = \"\")\n",
    "f.close()\n"
   ]
  },
  {
   "cell_type": "code",
   "execution_count": 5,
   "id": "b08514a9",
   "metadata": {},
   "outputs": [
    {
     "name": "stdout",
     "output_type": "stream",
     "text": [
      "1 번째 줄 입니다.\n",
      "2 번째 줄 입니다.\n",
      "3 번째 줄 입니다.\n",
      "4 번째 줄 입니다.\n",
      "5 번째 줄 입니다.\n",
      "6 번째 줄 입니다.\n",
      "7 번째 줄 입니다.\n",
      "8 번째 줄 입니다.\n",
      "9 번째 줄 입니다.\n",
      "10 번째 줄 입니다.\n"
     ]
    }
   ],
   "source": [
    "# 파일을 읽기 모드로 열어 파일 내용 출력하기 - Method 2\n",
    "f = open(\"../Data/new.txt\", \"r\")\n",
    "lines = f.readlines()\n",
    "f.close()\n",
    "for line in lines :\n",
    "    print(line, end = \"\")"
   ]
  },
  {
   "cell_type": "code",
   "execution_count": 9,
   "id": "c001293c",
   "metadata": {},
   "outputs": [
    {
     "name": "stdout",
     "output_type": "stream",
     "text": [
      "1 번째 줄 입니다.\n",
      "2 번째 줄 입니다.\n",
      "3 번째 줄 입니다.\n",
      "4 번째 줄 입니다.\n",
      "5 번째 줄 입니다.\n",
      "6 번째 줄 입니다.\n",
      "7 번째 줄 입니다.\n",
      "8 번째 줄 입니다.\n",
      "9 번째 줄 입니다.\n",
      "10 번째 줄 입니다.\n",
      "11 번째 줄 입니다.\n",
      "12 번째 줄 입니다.\n",
      "13 번째 줄 입니다.\n",
      "14 번째 줄 입니다.\n",
      "15 번째 줄 입니다.\n",
      "16 번째 줄 입니다.\n",
      "17 번째 줄 입니다.\n",
      "18 번째 줄 입니다.\n",
      "19 번째 줄 입니다.\n",
      "20 번째 줄 입니다.\n",
      "\n"
     ]
    }
   ],
   "source": [
    "# 파일을 읽기 모드로 열어 파일 내용 출력하기 - Method 3\n",
    "f = open(\"../Data/new.txt\", \"r\")\n",
    "data = f.read()\n",
    "f.close()\n",
    "print(data)"
   ]
  },
  {
   "cell_type": "code",
   "execution_count": 8,
   "id": "d6c1c601",
   "metadata": {},
   "outputs": [],
   "source": [
    "# 파일에 새로운 내용 추가하기\n",
    "f = open(\"../Data/new.txt\", \"a\")\n",
    "for i in range(11, 20+1):\n",
    "    f.write(f\"{i} 번째 줄 입니다.\\n\")\n",
    "f.close()\n"
   ]
  },
  {
   "cell_type": "code",
   "execution_count": 10,
   "id": "9296affc",
   "metadata": {},
   "outputs": [
    {
     "name": "stdout",
     "output_type": "stream",
     "text": [
      "1 번째 줄 입니다.\n",
      "2 번째 줄 입니다.\n",
      "3 번째 줄 입니다.\n",
      "4 번째 줄 입니다.\n",
      "5 번째 줄 입니다.\n",
      "6 번째 줄 입니다.\n",
      "7 번째 줄 입니다.\n",
      "8 번째 줄 입니다.\n",
      "9 번째 줄 입니다.\n",
      "10 번째 줄 입니다.\n",
      "11 번째 줄 입니다.\n",
      "12 번째 줄 입니다.\n",
      "13 번째 줄 입니다.\n",
      "14 번째 줄 입니다.\n",
      "15 번째 줄 입니다.\n",
      "16 번째 줄 입니다.\n",
      "17 번째 줄 입니다.\n",
      "18 번째 줄 입니다.\n",
      "19 번째 줄 입니다.\n",
      "20 번째 줄 입니다.\n",
      "\n"
     ]
    }
   ],
   "source": [
    "f = open(\"../Data/new.txt\", \"r\")\n",
    "data = f.read()\n",
    "f.close()\n",
    "print(data)"
   ]
  },
  {
   "cell_type": "markdown",
   "id": "1b407091",
   "metadata": {},
   "source": [
    "---\n",
    "### with 문\n",
    ": 파일의 열고 닫음을 자동으로 처리하기 위해 with 문을 벗어나면 자동으로 close()"
   ]
  },
  {
   "cell_type": "code",
   "execution_count": 13,
   "id": "1bbc89c7",
   "metadata": {},
   "outputs": [],
   "source": [
    "# 파일 만들기\n",
    "with open(\"../Data/new2.txt\", \"w\") as f:\n",
    "    for i in range(1, 10+1):\n",
    "        f.write(f\"{i} 번째 줄 입니다.\\n\")"
   ]
  },
  {
   "cell_type": "code",
   "execution_count": 15,
   "id": "e1d77ce8",
   "metadata": {},
   "outputs": [
    {
     "name": "stdout",
     "output_type": "stream",
     "text": [
      "1 번째 줄 입니다.\n",
      "2 번째 줄 입니다.\n",
      "3 번째 줄 입니다.\n",
      "4 번째 줄 입니다.\n",
      "5 번째 줄 입니다.\n",
      "6 번째 줄 입니다.\n",
      "7 번째 줄 입니다.\n",
      "8 번째 줄 입니다.\n",
      "9 번째 줄 입니다.\n",
      "10 번째 줄 입니다.\n",
      "\n"
     ]
    }
   ],
   "source": [
    "# 파일 읽기\n",
    "with open(\"../Data/new2.txt\", \"r\") as f:\n",
    "    data = f.read()\n",
    "    print(data)"
   ]
  },
  {
   "cell_type": "markdown",
   "id": "ae57fad7",
   "metadata": {},
   "source": [
    "---\n",
    "### Pandas"
   ]
  },
  {
   "cell_type": "code",
   "execution_count": 16,
   "id": "69650708",
   "metadata": {},
   "outputs": [],
   "source": [
    "import pandas as pd\n"
   ]
  },
  {
   "cell_type": "code",
   "execution_count": 18,
   "id": "978f5e6e",
   "metadata": {},
   "outputs": [
    {
     "data": {
      "text/html": [
       "<div>\n",
       "<style scoped>\n",
       "    .dataframe tbody tr th:only-of-type {\n",
       "        vertical-align: middle;\n",
       "    }\n",
       "\n",
       "    .dataframe tbody tr th {\n",
       "        vertical-align: top;\n",
       "    }\n",
       "\n",
       "    .dataframe thead th {\n",
       "        text-align: right;\n",
       "    }\n",
       "</style>\n",
       "<table border=\"1\" class=\"dataframe\">\n",
       "  <thead>\n",
       "    <tr style=\"text-align: right;\">\n",
       "      <th></th>\n",
       "      <th>0</th>\n",
       "    </tr>\n",
       "  </thead>\n",
       "  <tbody>\n",
       "    <tr>\n",
       "      <th>0</th>\n",
       "      <td>1 번째 줄 입니다.</td>\n",
       "    </tr>\n",
       "    <tr>\n",
       "      <th>1</th>\n",
       "      <td>2 번째 줄 입니다.</td>\n",
       "    </tr>\n",
       "    <tr>\n",
       "      <th>2</th>\n",
       "      <td>3 번째 줄 입니다.</td>\n",
       "    </tr>\n",
       "    <tr>\n",
       "      <th>3</th>\n",
       "      <td>4 번째 줄 입니다.</td>\n",
       "    </tr>\n",
       "    <tr>\n",
       "      <th>4</th>\n",
       "      <td>5 번째 줄 입니다.</td>\n",
       "    </tr>\n",
       "  </tbody>\n",
       "</table>\n",
       "</div>"
      ],
      "text/plain": [
       "             0\n",
       "0  1 번째 줄 입니다.\n",
       "1  2 번째 줄 입니다.\n",
       "2  3 번째 줄 입니다.\n",
       "3  4 번째 줄 입니다.\n",
       "4  5 번째 줄 입니다."
      ]
     },
     "execution_count": 18,
     "metadata": {},
     "output_type": "execute_result"
    }
   ],
   "source": [
    "# 불러오기\n",
    "txtSample = pd.read_table(\"../Data/new.txt\", header=None)\n",
    "txtSample.head()"
   ]
  },
  {
   "cell_type": "code",
   "execution_count": null,
   "id": "57ddffc8",
   "metadata": {},
   "outputs": [],
   "source": [
    "# 저장하기\n",
    "# index 와 header 를 제거하고 data 만 저장 해주어야 한다.\n",
    "txtSample.to_string(\"../Data/sample_file.txt\", index=False, header=None)"
   ]
  },
  {
   "cell_type": "code",
   "execution_count": 23,
   "id": "ff3b4d87",
   "metadata": {},
   "outputs": [
    {
     "data": {
      "text/html": [
       "<div>\n",
       "<style scoped>\n",
       "    .dataframe tbody tr th:only-of-type {\n",
       "        vertical-align: middle;\n",
       "    }\n",
       "\n",
       "    .dataframe tbody tr th {\n",
       "        vertical-align: top;\n",
       "    }\n",
       "\n",
       "    .dataframe thead th {\n",
       "        text-align: right;\n",
       "    }\n",
       "</style>\n",
       "<table border=\"1\" class=\"dataframe\">\n",
       "  <thead>\n",
       "    <tr style=\"text-align: right;\">\n",
       "      <th></th>\n",
       "      <th>0</th>\n",
       "    </tr>\n",
       "  </thead>\n",
       "  <tbody>\n",
       "    <tr>\n",
       "      <th>0</th>\n",
       "      <td>1 번째 줄 입니다.</td>\n",
       "    </tr>\n",
       "    <tr>\n",
       "      <th>1</th>\n",
       "      <td>2 번째 줄 입니다.</td>\n",
       "    </tr>\n",
       "    <tr>\n",
       "      <th>2</th>\n",
       "      <td>3 번째 줄 입니다.</td>\n",
       "    </tr>\n",
       "    <tr>\n",
       "      <th>3</th>\n",
       "      <td>4 번째 줄 입니다.</td>\n",
       "    </tr>\n",
       "    <tr>\n",
       "      <th>4</th>\n",
       "      <td>5 번째 줄 입니다.</td>\n",
       "    </tr>\n",
       "  </tbody>\n",
       "</table>\n",
       "</div>"
      ],
      "text/plain": [
       "              0\n",
       "0   1 번째 줄 입니다.\n",
       "1   2 번째 줄 입니다.\n",
       "2   3 번째 줄 입니다.\n",
       "3   4 번째 줄 입니다.\n",
       "4   5 번째 줄 입니다."
      ]
     },
     "execution_count": 23,
     "metadata": {},
     "output_type": "execute_result"
    }
   ],
   "source": [
    "pd.read_table(\"../Data/sample_file.txt\", header=None).head()"
   ]
  },
  {
   "cell_type": "code",
   "execution_count": null,
   "id": "8abb2309",
   "metadata": {},
   "outputs": [],
   "source": []
  }
 ],
 "metadata": {
  "kernelspec": {
   "display_name": "base",
   "language": "python",
   "name": "python3"
  },
  "language_info": {
   "codemirror_mode": {
    "name": "ipython",
    "version": 3
   },
   "file_extension": ".py",
   "mimetype": "text/x-python",
   "name": "python",
   "nbconvert_exporter": "python",
   "pygments_lexer": "ipython3",
   "version": "3.12.7"
  }
 },
 "nbformat": 4,
 "nbformat_minor": 5
}
